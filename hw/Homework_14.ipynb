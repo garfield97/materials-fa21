{
 "cells": [
  {
   "cell_type": "markdown",
   "metadata": {
    "#solution": false,
    "#staff": false,
    "#student": false
   },
   "source": [
    "<table align=\"left\" style=\"border-style: hidden\" class=\"table\"> <tr><td class=\"col-md-2\"><img style=\"float\" src=\"../icon_sp21.png\" alt=\"Prob140 Logo\" style=\"width: 120px;\"/></td><td><div align=\"left\"><h3 style=\"margin-top: 0;\">Probability for Data Science</h3><h4 style=\"margin-top: 20px;\">UC Berkeley, Fall 2021</h4><p>Ani Adhikari</p>CC BY-NC 4.0</div></td></tr></table><!-- not in pdf -->\n",
    "\n",
    "This content is protected and may not be shared, uploaded, or distributed."
   ]
  },
  {
   "cell_type": "markdown",
   "metadata": {
    "#solution": false,
    "#staff": false,
    "#student": false
   },
   "source": [
    "# Homework 14"
   ]
  },
  {
   "cell_type": "markdown",
   "metadata": {
    "#solution": false,
    "#staff": false,
    "#student": false
   },
   "source": [
    "### Instructions\n",
    "\n",
    "Your homeworks have two components: a written portion and a portion that also involves code.  Written work should be completed on paper, and coding questions should be done in the notebook.  You are welcome to $\\LaTeX$ your answers to the written portions, but staff will not be able to assist you with $\\LaTeX$ related issues. It is your responsibility to ensure that both components of the homework are submitted completely and properly to Gradescope. **Make sure to assign each page of your pdf to the correct question.** Refer to the bottom of the notebook for submission instructions."
   ]
  },
  {
   "cell_type": "code",
   "execution_count": null,
   "metadata": {
    "#solution": false,
    "#staff": false,
    "#student": false
   },
   "outputs": [],
   "source": [
    "import warnings\n",
    "warnings.filterwarnings('ignore')\n",
    "from datascience import *\n",
    "from prob140 import *\n",
    "import numpy as np\n",
    "from scipy import stats\n",
    "import matplotlib.pyplot as plt\n",
    "plt.style.use('fivethirtyeight')\n",
    "%matplotlib inline"
   ]
  },
  {
   "cell_type": "markdown",
   "metadata": {
    "#solution": false,
    "#staff": false,
    "#student": false
   },
   "source": [
    "## 1. 2017 SAT Scores, Part 1 ##\n",
    "The College Board presents an [annual report](https://reports.collegeboard.org/pdf/2017-total-group-sat-suite-assessments-annual-report.pdf) about participation and performance in the SAT. The 2017 SAT had two parts: Evidence-Based Reading and Writing (ERW) and Math. It is generally believed that the joint distribution of ERW and Math scores of test-takers in any given year is roughly bivariate normal. This can only be a rough approximation because SAT scores aren't continuous variables. But let's make a lazy choice for this exercise: pretend that SAT scores are continuous and that the approximation is exact.\n",
    "\n",
    "So assume that for the 2017 test-takers in the United States, the joint distribution of ERW and Math scores is bivariate normal. The College Board provides the following summary statistics.\n",
    "\n",
    "- ERW: Mean 533, SD 100\n",
    "- Math: Mean 527, SD 107\n",
    "- Total: Mean 1060, SD 195\n",
    "\n",
    "Let $R$ be the ERW score and $M$ the math score of a test-taker picked at random.\n",
    "\n",
    "**a)** Find the correlation $r(R, M)$."
   ]
  },
  {
   "cell_type": "code",
   "execution_count": null,
   "metadata": {
    "#solution": false,
    "#staff": false,
    "#student": true
   },
   "outputs": [],
   "source": [
    "# Answer to a\n",
    "var_R = ...\n",
    "var_M = ...\n",
    "var_T = ...\n",
    "r = ...\n",
    "r"
   ]
  },
  {
   "cell_type": "markdown",
   "metadata": {
    "#solution": false,
    "#staff": false,
    "#student": false
   },
   "source": [
    "**b)** Plot the joint density surface of $R$ and $M$. The call is `Plot_bivariate_normal(mu, cov)` where the mean vector `mu` is a list and the covariance matrix `cov` is a list of lists specifying the rows."
   ]
  },
  {
   "cell_type": "code",
   "execution_count": null,
   "metadata": {
    "#solution": false,
    "#staff": false,
    "#student": true
   },
   "outputs": [],
   "source": [
    "# Answer to b\n",
    "mu = ...\n",
    "cov_RM = ...\n",
    "cov = [...]\n",
    "Plot_bivariate_normal(..., ..., figsize =(6,6))"
   ]
  },
  {
   "cell_type": "markdown",
   "metadata": {
    "#solution": false,
    "#staff": false,
    "#student": false
   },
   "source": [
    "**c) [WRITTEN & CODE]** Let $T = R+M$. In the code cell below, plot the joint density surface of $M$ and $T$. Use as many lines of code as you need. **On paper, explain** your choice of density, and say what you notice about the plot."
   ]
  },
  {
   "cell_type": "code",
   "execution_count": null,
   "metadata": {
    "#solution": false,
    "#staff": false,
    "#student": true
   },
   "outputs": [],
   "source": [
    "# Answer to c\n",
    "..."
   ]
  },
  {
   "cell_type": "markdown",
   "metadata": {
    "#solution": false,
    "#staff": false,
    "#student": false
   },
   "source": [
    "**d)** Write a code expression that evaluates to $r(M, T)$. In the comment, explain why it's high. "
   ]
  },
  {
   "cell_type": "code",
   "execution_count": null,
   "metadata": {
    "#solution": false,
    "#staff": false,
    "#student": true
   },
   "outputs": [],
   "source": [
    "# Answer to d\n",
    "\"\"\"r(M, T) is high because ...\"\"\"\n",
    "..."
   ]
  },
  {
   "cell_type": "markdown",
   "metadata": {
    "#solution": false,
    "#staff": false,
    "#student": false
   },
   "source": [
    "\\newpage"
   ]
  },
  {
   "cell_type": "markdown",
   "metadata": {
    "#solution": false,
    "#staff": false,
    "#student": false
   },
   "source": [
    "## 2. 2017 SAT Scores, Part 2 ###\n",
    "This exercise continues the previous one. Please make the same assumptions as before. In your math and code you can use any quantity that has already been defined.\n",
    "\n",
    "As in the previous exercise, the parts below refer to the scores of a test-taker picked at random."
   ]
  },
  {
   "cell_type": "markdown",
   "metadata": {
    "#solution": false,
    "#staff": false,
    "#student": false
   },
   "source": [
    "**a)** Write an expression that evaluates to the chance that the total score is greater than 1500."
   ]
  },
  {
   "cell_type": "code",
   "execution_count": null,
   "metadata": {
    "#solution": false,
    "#staff": false,
    "#student": true
   },
   "outputs": [],
   "source": [
    "# Answer to a\n",
    "..."
   ]
  },
  {
   "cell_type": "markdown",
   "metadata": {
    "#solution": false,
    "#staff": false,
    "#student": false
   },
   "source": [
    "**b) [WRITTEN & CODE]** In terms of the standard normal cdf $\\Phi$, what is the chance that the student scored higher on ERW than on Math? Answer this on paper (show your work) and then use the code cell below to find the numerical value. Use as many lines of code as you need. The last expression should evaluate to the proportion."
   ]
  },
  {
   "cell_type": "code",
   "execution_count": null,
   "metadata": {
    "#solution": false,
    "#staff": false,
    "#student": true
   },
   "outputs": [],
   "source": [
    "# Answer to b\n",
    "..."
   ]
  },
  {
   "cell_type": "markdown",
   "metadata": {
    "#solution": false,
    "#staff": false,
    "#student": false
   },
   "source": [
    "**c)** Write a code expression that evaluates to the chance that the ERW and Math scores were more than 100 points apart. As before, your expression can involve quantities defined in earlier parts."
   ]
  },
  {
   "cell_type": "code",
   "execution_count": null,
   "metadata": {
    "#solution": false,
    "#staff": false,
    "#student": true
   },
   "outputs": [],
   "source": [
    "# Answer to c\n",
    "..."
   ]
  },
  {
   "cell_type": "markdown",
   "metadata": {
    "#solution": false,
    "#staff": false,
    "#student": false
   },
   "source": [
    "\\newpage"
   ]
  },
  {
   "cell_type": "markdown",
   "metadata": {
    "#solution": false,
    "#staff": false,
    "#student": false
   },
   "source": [
    "## 3. \"No Intercept\" Linear Regression ##\n",
    "\n",
    "Let $X$ and $Y$ be jointly distributed random variables. Suppose you want to predict $Y$ by a function of the form $aX$ for some constant $a$. You might want to do this if for example you believe that $Y$ is proportional to $X$ but you have noisy data. \n",
    "\n",
    "**a)** Let $MSE(a)$ denote the mean squared error of the predictor $aX$. Fill in the blank with a random variable:\n",
    "\n",
    "$MSE(a) ~ = ~ E(\\underline{~~~~~~~~~~~~~~~~~~~~~~~~~~~~~~~~~~~~~})$\n",
    "\n",
    "**b)** Find the value $a^*$ that minimizes $MSE(a)$ over all $a$.\n",
    "\n",
    "**c)** Define the residual $D = Y - a^*X$. True or false (explain or calculate): $E(D) = 0$.\n",
    "\n",
    "**d)** Find $MSE(a^*)$.\n",
    "\n",
    "**e)** Use Part **d** to prove the *Cauchy-Schwarz Inequality*: For jointly distributed random variables $X$ and $Y$, $\\vert E(XY) \\vert \\le \\sqrt{E(X^2)E(Y^2)}$."
   ]
  },
  {
   "cell_type": "markdown",
   "metadata": {
    "#solution": false,
    "#staff": false,
    "#student": false
   },
   "source": [
    "\\newpage"
   ]
  },
  {
   "cell_type": "markdown",
   "metadata": {
    "#solution": false,
    "#staff": false,
    "#student": false
   },
   "source": [
    "## 4. Heights of Mothers and Daughters ##\n",
    "\n",
    "The heights of a population of mother-daughter pairs have a bivariate normal distribution with correlation 0.5.\n",
    "\n",
    "**a)** Of the mothers on the 90th percentile of mothers' heights, what proportion have daughters who are taller than the 90th percentile of daughters' heights?\n",
    "\n",
    "**b)** In what proportion of mother-daughter pairs are both women taller than average? (This means the mothers are taller than the average mother and the daughters are taller than the average daughter.)\n",
    "\n",
    "[Hint: Remember that you can express standard bivariate normal variables in terms of two independent standard normal variables.]"
   ]
  },
  {
   "cell_type": "markdown",
   "metadata": {
    "#solution": false,
    "#staff": false,
    "#student": false
   },
   "source": [
    "\\newpage"
   ]
  },
  {
   "cell_type": "markdown",
   "metadata": {
    "#solution": false,
    "#staff": false,
    "#student": false
   },
   "source": [
    "## 5. Properties of Multiple Regression Estimates ##\n",
    "\n",
    "This exercise assumes the multiple regression model of [Section 25.4](http://prob140.org/textbook/Chapter_25/04_Multiple_Regression.html) of the textbook and uses the same notation as in that section.\n",
    "\n",
    "**a)** What are the dimensions of $E(\\hat{\\boldsymbol{\\beta}})$? Show that $\\hat{\\boldsymbol{\\beta}}$ is an unbiased estimator of $\\boldsymbol{\\beta}$.\n",
    "\n",
    "**b)** Find the covariance matrix of $\\hat{\\boldsymbol{\\beta}}$. The diagonal entries of this matrix tell you how variable the estimates of the coefficients are.\n",
    "\n",
    "**c)** What is the distribution of $\\hat{\\boldsymbol{\\beta}}$?\n",
    "\n",
    "**d)** Find the distribution of the fitted values $\\hat{\\mathbf{Y}}$.\n",
    "\n",
    "**e)** Find the distribution of the residuals $\\mathbf{e}$."
   ]
  },
  {
   "cell_type": "markdown",
   "metadata": {
    "#solution": false,
    "#staff": false,
    "#student": false
   },
   "source": [
    "## Submission Instructions ##\n",
    "\n",
    "Many assignments throughout the course will have a written portion and a code portion. Please follow the directions below to properly submit both portions.\n",
    "\n",
    "### Written Portion ###\n",
    "*  Scan all the pages into a PDF. You can use any scanner or a phone using an application. Please **DO NOT** simply take pictures using your phone. \n",
    "* Please start a new page for each question. If you have already written multiple questions on the same page, you can crop the image or fold your page over (the old-fashioned way). This helps expedite grading.\n",
    "* It is your responsibility to check that all the work on all the scanned pages is legible.\n",
    "\n",
    "### Code Portion ###\n",
    "* Save your notebook using File > Save and Checkpoint.\n",
    "* Generate a PDF file using File > Download as > PDF via LaTeX. This might take a few seconds and will automatically download a PDF version of this notebook.\n",
    "    * If you have issues, please make a follow-up post on the general HW 14 Ed thread.\n",
    "    \n",
    "### Submitting ###\n",
    "* Combine the PDFs from the written and code portions into one PDF.  [Here](https://smallpdf.com/merge-pdf) is a useful tool for doing so. \n",
    "* Submit the assignment to Homework 14 on Gradescope. \n",
    "* **Make sure to assign each page of your pdf to the correct question.**\n",
    "* **It is your responsibility to verify that all of your work shows up in your final PDF submission.**\n",
    "\n",
    "\n",
    "### **We will not grade assignments which do not have pages selected for each question.** "
   ]
  }
 ],
 "metadata": {
  "checksums": [
   "0011ff961059cb30605bb0bb5db4b42e",
   "9d2b2e285a4f74f288e7a855e71be1f0",
   "0350987bcbc0b4e3840dce42e8623734",
   "d0602e0d9ce8b7fd066b0c8a788116c3",
   "c01de94e41ae5e1777d5aa68d5da6e1e",
   "80155120c790487d6ac3ee2e2a0c4a93",
   "c45d83218238c477944a2156a130ca4b",
   "2a65f311f1b70afa0de5ad947405125e",
   "e4ca7ec3ec2d27419b1fe2565130f4e2",
   "c966384634ed046fc2e19ca9532a632c",
   "8bfe4da9de2bf9790de590c9dfa33ff5",
   "6b550c11bf7656d57005483942ef9c0c",
   "562505d567faf02dfc9388e81e89d07b",
   "f179f183771799e8f28e2a40b0ac4d5b",
   "4f0b057dc60197d746a6da35525bb85a",
   "295f710d4a850c2587be4c0aa39a5431",
   "e3156c9bb65fe267a54f50b8ccc07a34",
   "a7fb1f57e7d7769594278d1acc280f22",
   "6f11a241bde08d9b7ee34be5c3825f6f",
   "c966384634ed046fc2e19ca9532a632c",
   "562505d567faf02dfc9388e81e89d07b",
   "0b0daa2f64b2d0158cff7bb8b2e8518a",
   "562505d567faf02dfc9388e81e89d07b",
   "59d9af0911b4fb9f1d345324643f70eb",
   "562505d567faf02dfc9388e81e89d07b",
   "d978b88c85559707c8ece7af31c01c87",
   "8237379f029b2fe5a7e04657ed086ae8"
  ],
  "kernelspec": {
   "display_name": "Python 3",
   "language": "python",
   "name": "python3"
  },
  "language_info": {
   "codemirror_mode": {
    "name": "ipython",
    "version": 3
   },
   "file_extension": ".py",
   "mimetype": "text/x-python",
   "name": "python",
   "nbconvert_exporter": "python",
   "pygments_lexer": "ipython3",
   "version": "3.7.4"
  },
  "number_of_pagebreaks": 0
 },
 "nbformat": 4,
 "nbformat_minor": 5
}
