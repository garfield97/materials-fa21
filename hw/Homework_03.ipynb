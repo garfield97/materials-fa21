{
 "cells": [
  {
   "cell_type": "markdown",
   "metadata": {},
   "source": [
    "<table align=\"left\" style=\"border-style: hidden\" class=\"table\"> <tr><td class=\"col-md-2\"><img style=\"float\" src=\"../icon_sp21.png\" alt=\"Prob140 Logo\" style=\"width: 120px;\"/></td><td><div align=\"left\"><h3 style=\"margin-top: 0;\">Probability for Data Science</h3><h4 style=\"margin-top: 20px;\">UC Berkeley, Fall 2021</h4><p>Ani Adhikari</p>CC BY-NC 4.0</div></td></tr></table><!-- not in pdf -->\n",
    "\n",
    "This content is protected and may not be shared, uploaded, or distributed."
   ]
  },
  {
   "cell_type": "markdown",
   "metadata": {},
   "source": [
    "# Homework 3"
   ]
  },
  {
   "cell_type": "markdown",
   "metadata": {
    "#solution": false,
    "#staff": false,
    "#student": false
   },
   "source": [
    "### Instructions\n",
    "\n",
    "Your homeworks have two components: a written portion and a portion that also involves code.  Written work should be completed on paper, and coding questions should be done in the notebook.  You are welcome to $\\LaTeX$ your answers to the written portions, but staff will not be able to assist you with $\\LaTeX$ related issues. It is your responsibility to ensure that both components of the homework are submitted completely and properly to Gradescope. **Make sure to assign each page of your pdf to the correct question.** Refer to the bottom of the notebook for submission instructions."
   ]
  },
  {
   "cell_type": "code",
   "execution_count": 1,
   "metadata": {},
   "outputs": [],
   "source": [
    "# Run this cell to set up your notebook\n",
    "\n",
    "import warnings\n",
    "warnings.filterwarnings('ignore')\n",
    "\n",
    "import numpy as np\n",
    "from scipy import stats\n",
    "from datascience import *\n",
    "from prob140 import *\n",
    "\n",
    "import matplotlib\n",
    "%matplotlib inline\n",
    "import matplotlib.pyplot as plt\n",
    "plt.style.use('fivethirtyeight')"
   ]
  },
  {
   "cell_type": "markdown",
   "metadata": {},
   "source": [
    "## 1. Female Births ##\n",
    "\n",
    "In the U.S., 49% of births are female. Assume the sexes of babies are independent of each other. \n",
    "\n",
    "In each part below, write a math expression for the chance and provide a brief justification. Please use the appropriate summation, not \"...\". Then use the appropriate code cell to find the chance using `stats.binom.pmf`, `stats.binom.cdf`, and arithmetic. See [the textbook](http://prob140.org/textbook/content/Chapter_06/01_Binomial_Distribution.html#binomial-probabilities-in-python) for a reference; the `stats` library of `scipy` has been imported in the top cell of this notebook.\n",
    "\n",
    "**a)** Find the chance that among 20 births, the majority (more than half) are female.\n",
    "\n",
    "**b)** Suppose you record each birth until you have recorded 15 female births, and then you stop. What is the chance that you record more than 30 births?\n",
    "\n",
    "**c)** Suppose I record 12 births and you record the next 12. Find the chance that you record at least three more female births than I do."
   ]
  },
  {
   "cell_type": "code",
   "execution_count": null,
   "metadata": {},
   "outputs": [],
   "source": [
    "#student\n",
    "# Answer to 1a\n"
   ]
  },
  {
   "cell_type": "code",
   "execution_count": null,
   "metadata": {},
   "outputs": [],
   "source": [
    "#student\n",
    "# Answer to 1b\n"
   ]
  },
  {
   "cell_type": "code",
   "execution_count": null,
   "metadata": {},
   "outputs": [],
   "source": [
    "#student\n",
    "# Answer to 1c\n"
   ]
  },
  {
   "cell_type": "markdown",
   "metadata": {},
   "source": [
    "#staff\n",
    "\n",
    "The logic in **b** and **c** is important to understand, so encourage students to take the time to think it through. \n",
    "\n",
    "For **b**, ask: \"What would have to happen for you to need to record more than 30 births?\" They'll say, \"You didn't get 15 females.\" A good response is, \"Great! Think about how you could find that chance.\"\n",
    "\n",
    "For **c**, ask students to start writing some (me, you) pairs that work. Then ask them to think in more detail about exactly which (me, you) pairs work. There are a couple of different correct ways of writing the double sum.\n",
    "\n",
    "The code can be written correctly in multiple ways, for example with `sum` and `pmf` instead of `cdf`."
   ]
  },
  {
   "cell_type": "markdown",
   "metadata": {},
   "source": [
    "#solution\n",
    "\n",
    "### [Solution] Female Births ###\n",
    "\n",
    "**a)** $\\displaystyle \\sum_{i=11}^{20} \\binom{20}{i}0.49^i0.51^{20-i}$\n",
    "\n",
    "**b)** $\\displaystyle P(\\text{at most 14 female births in the first 30 births}) = \\sum_{i=0}^{14} \\binom{30}{i}0.49^i0.51^{30-i}$\n",
    "\n",
    "**c)** By partitioning according to the number of female births I record:\n",
    "\n",
    "$\\displaystyle  \\sum_{i=0}^9\\binom{12}{i}0.49^i0.51^{12-i} \\sum_{j=i+3}^{12} \\binom{12}{j}0.49^j0.51^{12-j}$"
   ]
  },
  {
   "cell_type": "code",
   "execution_count": 2,
   "metadata": {},
   "outputs": [
    {
     "data": {
      "text/plain": [
       "0.37705607079310366"
      ]
     },
     "execution_count": 2,
     "metadata": {},
     "output_type": "execute_result"
    }
   ],
   "source": [
    "#solution\n",
    "# Answer to 1a\n",
    "1 - stats.binom.cdf(10, 20, 0.49)"
   ]
  },
  {
   "cell_type": "code",
   "execution_count": 3,
   "metadata": {},
   "outputs": [
    {
     "data": {
      "text/plain": [
       "0.47145851829402574"
      ]
     },
     "execution_count": 3,
     "metadata": {},
     "output_type": "execute_result"
    }
   ],
   "source": [
    "#solution\n",
    "# Answer to 1b\n",
    "stats.binom.cdf(14, 30, 0.49)"
   ]
  },
  {
   "cell_type": "code",
   "execution_count": 4,
   "metadata": {},
   "outputs": [
    {
     "data": {
      "text/plain": [
       "0.15367729123979065"
      ]
     },
     "execution_count": 4,
     "metadata": {},
     "output_type": "execute_result"
    }
   ],
   "source": [
    "#solution\n",
    "# Answer to 1c\n",
    "p = 0\n",
    "for i in np.arange(0, 10):\n",
    "    p = p + stats.binom.pmf(i, 12, 0.49)*(1-stats.binom.cdf(i+2, 12, 0.49))\n",
    "    \n",
    "p"
   ]
  },
  {
   "cell_type": "markdown",
   "metadata": {},
   "source": [
    "\n",
    "## 2. Related Distribution Families ##\n",
    "\n",
    "As you have seen, the binomial distribution is closely related to the hypergeometric and Poisson distributions. Here are two more connections.\n",
    "\n",
    "**a)** Let $1 \\le m < n$ be integers. Consider $n$ i.i.d. Bernoulli trials with probability of $p$ of success on each trial. Let $X$ be the number of successes in the first $m$ trials and let $T$ be the number of successes in all $n$ trials. \n",
    "\n",
    "For a fixed integer $t$, find the conditional distribution of $X$ given $T=t$. Identify it as one of the famous ones and provide the parameters in terms of $n$, $m$, and $t$.\n",
    "\n",
    "**b)** Let $X$ and $Y$ be independent random variables such that $X$ has the Poisson $(\\lambda)$ distribution and $Y$ has the Poisson $(\\mu)$ distribution. \n",
    "\n",
    "For a fixed integer $n$, find the conditional distribution of $X$ given  $X+Y = n$. Identify it as one of the famous ones and provide the parameters in terms of $n$, $\\lambda$, and $\\mu$.\n"
   ]
  },
  {
   "cell_type": "markdown",
   "metadata": {},
   "source": [
    "#staff\n",
    "\n",
    "Students will have a lot of trouble coming up with the possible values in (a). Just accept 0 to t or 0 to m, or even nothing at all. Hypergeometric ranges are always a pain."
   ]
  },
  {
   "cell_type": "markdown",
   "metadata": {},
   "source": [
    "#solution\n",
    "\n",
    "### [Solution] Related Distribution Families ###\n",
    "\n",
    "**a)** Define the random variable $X' = T-X$ that represents the number of successes in the last $n-m$ trials. $X'$ has distribution binomial $(n-m, p)$ *and* is independent of $X$.\n",
    "\n",
    "Given $T=t$, the possible values of $X$ range from $\\max(0, t-(n-m))$ to $\\min(m, t)$. For $i$ in this range,\n",
    "\n",
    "$$\n",
    "\\begin{align*}\n",
    "P(X=i \\mid T=t) &= \\frac{P(X=i, T=t)}{P(T=t)}\\\\\n",
    "&= \\frac{P(X=i, X'=t-i)}{P(T=t)}\\\\\n",
    "&=   \\frac{P(X=i)P(X'=t-i)}{P(T=t)}\\\\\n",
    "&= \\frac{{m \\choose i}p^i(1-p)^{m-i}{n-m \\choose t-i}p^{t-i}(1-p)^{n-m-(t-i)}}{{n \\choose t}p^t (1-p)^{n-t}}\\\\\n",
    "&= \\frac{{m \\choose i}{n-m \\choose t-i}}{{n \\choose t}}\n",
    "\\end{align*}\n",
    "$$\n",
    "\n",
    "This is hypergeometric with parameters $(N = n, G = m, n = t)$.\n",
    "\n",
    "**b)** Given $X+Y=n$, the possible values of $X$ are $0$ through $n$. For $k$ in this range,\n",
    "\n",
    "$$\n",
    "\\begin{align*}\n",
    "        P(X=k \\mid X+Y =n) &= \\frac{P(X=k, Y=n-k)}{P(X+Y=n)}\\\\\n",
    "        &= \\frac{\\frac{e^{-\\lambda}\\lambda^k}{k!} \\frac{e^{-\\mu}\\mu^{n-k}}{(n-k)!}}\n",
    "                {\\frac{e^{-(\\lambda + \\mu)}(\\lambda + \\mu)^n}{n!}}\\\\\n",
    "        &= \\frac{n!}{k! (n-k)!}\\frac{\\lambda^k \\mu^{n-k}}{(\\lambda + \\mu)^n}\\\\\n",
    "        &= \\binom{n}{k}\\left( \\frac{\\lambda}{\\lambda+\\mu} \\right)^k \\left(1 - \\frac{\\lambda}{\\lambda+\\mu} \\right)^{n-k}\n",
    "   \\end{align*}\n",
    "$$\n",
    "\n",
    "This is the binomial $\\left(n, \\frac{\\lambda}{\\lambda + \\mu}\\right)$ distribution.\n"
   ]
  },
  {
   "cell_type": "markdown",
   "metadata": {},
   "source": [
    "## 3. Poisson Approximation at Both Ends ##\n",
    "Consider $n$ independent Bernoulli $(p)$ trials.\n",
    "\n",
    "**a)** Fill in the blanks with names of distributions along with parameters in parentheses: If $n = 1000$ and $p=0.003$, the distribution of the number of successes is exactly $\\underline{~~~~~~~~~~~~~~~~~~~~~~~~~~~}$ $(\\underline{~~~~~~~~~~~~ })$ and approximately $\\underline{~~~~~~~~~~~~~~~~~~~~~~ }$ $(\\underline{~~~~~~~~~~~~ })$.\n",
    "\n",
    "**b)** Let $n$ be large and let $p$ be close to 1. Find a Poisson approximation to $p_k$ (the chance of $k$ successes) by an appropriate use of the Poisson approximation to the binomial derived in the textbook. \n",
    "\n",
    "**Note:** You don't have to derive a new limit from scratch. Just use the limit already derived in the textbook, but appropriately.\n",
    "\n",
    "**c)** Plot the probability histogram of the binomial (1000, 0.997) distribution, and overlay your Poisson approximation from part (b). For computing Poisson probabilities, see the [textbook](http://prob140.org/textbook/content/Chapter_06/05_Law_of_Small_Numbers.html#poisson-probabilities-in-python). Please don't plot the entire range. Choose an informative range of values on the horizontal axis."
   ]
  },
  {
   "cell_type": "code",
   "execution_count": null,
   "metadata": {},
   "outputs": [],
   "source": [
    "#student\n",
    "# Answer to 3c\n",
    "\n",
    "n = 1000\n",
    "p = 0.997\n",
    "\n",
    "k = ...                # array of possible values\n",
    "binomial_probs = ...   # array of exact binomial probabilities\n",
    "\n",
    "def poisson_approximation_pmf(j):\n",
    "    \"\"\"Returns the Poisson approximation to the\n",
    "    exact binomial probability of j successes\"\"\"\n",
    "    return ...\n",
    "\n",
    "exact_binomial = Table().values(k).probabilities(...)\n",
    "poisson_approximation = Table().values(k).probability_function(...)\n",
    "\n",
    "Plots(...)\n",
    "plt.xlim(..., ...)"
   ]
  },
  {
   "cell_type": "markdown",
   "metadata": {},
   "source": [
    "#solution\n",
    "\n",
    "### [Solution] Poisson Approximation at Both Ends ###\n",
    "\n",
    "**a)** exactly binomial$(100, 0.003)$ and approximately poisson$(1000 \\cdot 0.003)$.\n",
    "\n",
    "**b)** $\\displaystyle p_k \\approx e^{-n(1-p)} \\frac{(n(1-p))^{n-k}}{(n-k)!}$"
   ]
  },
  {
   "cell_type": "code",
   "execution_count": 5,
   "metadata": {},
   "outputs": [
    {
     "data": {
      "image/png": "[encoded data removed]",
      "text/plain": [
       "<Figure size 432x288 with 1 Axes>"
      ]
     },
     "metadata": {},
     "output_type": "display_data"
    }
   ],
   "source": [
    "#solution\n",
    "# Answer to 3c\n",
    "n = 1000\n",
    "p = 0.997\n",
    "\n",
    "k = np.arange(1001)                \n",
    "binomial_probs = stats.binom.pmf(k, n, p)   \n",
    "\n",
    "def poisson_approx(j):\n",
    "    \"\"\"Returns the Poisson approximation to the\n",
    "    exact binomial probability of j successes\"\"\"\n",
    "    return stats.poisson.pmf(n-j, n * (1-p))\n",
    "\n",
    "exact_binomial = Table().values(k).probabilities(binomial_probs)\n",
    "poisson_approximation = Table().values(k).probability_function(poisson_approx)\n",
    "\n",
    "Plots(\"Binomial\", exact_binomial, \"Poisson\", poisson_approximation)\n",
    "plt.xlim(990, 1001);"
   ]
  },
  {
   "cell_type": "markdown",
   "metadata": {},
   "source": [
    "## 4. Classification ##\n",
    "In a population of four classes of individuals, the proportion of individuals of Class $i$ is $p_i$ for $i = 1, 2, 3, 4$. Suppose you sample independently from this population, and suppose the sample size is a Poisson random variable with parameter $n$ for a fixed positive integer $n$. \n",
    "\n",
    "For $1 \\le i \\le 4$, let $N_i$ be the number of Class $i$ people in the sample.\n",
    "\n",
    "**a)** What is the joint distribution of $N_1, N_2, N_3, N_4$?\n",
    "\n",
    "**b)** Find the probability that the sample contains at least one individual from each class. Just write a math expression for it, with explanation as always.\n",
    "\n",
    "**c)** Let $p_i = \\frac{i}{10}$ for $i = 1, 2, 3, 4$. Plot a graph of your answer from part b as a function of $n$ for $n$ in the range 1 through 50. For an example of a calculation of probabilities accompanied by a plot, see [Section 1.4](http://prob140.org/textbook/content/Chapter_01/04_Birthday_Problem.html#computing-the-chance) of the text. \n",
    "\n",
    "**d)** Still assuming $p_i = \\frac{i}{10}$ for $i = 1, 2, 3, 4$, find a decimal value for the chance that you get at least two of each kind of individual if the parameter is $n = 30$."
   ]
  },
  {
   "cell_type": "markdown",
   "metadata": {},
   "source": [
    "#staff\n",
    "\n",
    "**d)** Students should read the last example in Section 7.2, which is exactly like this question. If students ask why \"all classes appear\" can't be done by inclusion-exclusion as in previous exercises, the answer is that of course it can, but inclusion-exclusion is really a way to handle dependent counts. The point of Poissonization is that it makes the counts independent and hence eliminates the need for inclusion-exclusion."
   ]
  },
  {
   "cell_type": "markdown",
   "metadata": {},
   "source": [
    "#solution\n",
    "\n",
    "### [Solution] Classification ###\n",
    "\n",
    "**a)** Use [Poissonization of the multinomial](http://prob140.org/textbook/content/Chapter_07/02_Poissonizing_the_Multinomial.html#poissonization). For $1 \\le i \\le 4$, $N_i$ has the Poisson $(np_i)$ distribution, and $N_1, N_2, N_3, N_4$ are independent.\n",
    "\n",
    "**b)** Use complements.\n",
    "$$\n",
    "\\begin{align*}\n",
    "    P(\\text{at least one in each class}) &= P(N_1 > 0, N_2 > 0, N_3 > 0, N_4 > 0)\\\\\n",
    "    &= \\left(1 - \\frac{e^{-np_1(np_1)^0}}{0!}\\right)\\left(1 - \\frac{e^{-np_2(np_2)^0}}{0!}\\right)\\left(1 - \\frac{e^{-np_3(np_3)^0}}{0!}\\right)\\left(1 - \\frac{e^{-np_4(np_4)^0}}{0!}\\right)\\\\\n",
    "    &= \\left(1 - e^{-np_1}\\right)\\left(1 - e^{-np_2}\\right)\\left(1 - e^{-np_3}\\right)\\left(1 - e^{-np_4}\\right)\n",
    "\\end{align*}\n",
    "$$"
   ]
  },
  {
   "cell_type": "code",
   "execution_count": null,
   "metadata": {},
   "outputs": [],
   "source": [
    "#student \n",
    "# Answer to 4c\n",
    "\n",
    "def p_at_least_one(n):\n",
    "    ...\n",
    "\n",
    "..."
   ]
  },
  {
   "cell_type": "code",
   "execution_count": 6,
   "metadata": {},
   "outputs": [
    {
     "data": {
      "image/png": "[encoded data removed]",
      "text/plain": [
       "<Figure size 360x360 with 1 Axes>"
      ]
     },
     "metadata": {},
     "output_type": "display_data"
    }
   ],
   "source": [
    "#solution\n",
    "# Answer to 4c\n",
    "def p_at_least_one(n):\n",
    "    return (1 - stats.poisson.pmf(0, 0.1*n)\n",
    "           )*(1 - stats.poisson.pmf(0, 0.2*n)\n",
    "             )*(1 - stats.poisson.pmf(0, 0.3*n)\n",
    "               )*(1 - stats.poisson.pmf(0, 0.4*n))\n",
    "\n",
    "results = Table().with_column('Trials', np.arange(1, 50+1, 1))\n",
    "\n",
    "different = results.apply(p_at_least_one, 'Trials')\n",
    "\n",
    "results = results.with_columns(\n",
    "    'P(at least one of each)', different\n",
    ")\n",
    "\n",
    "results.scatter('Trials', 'P(at least one of each)')"
   ]
  },
  {
   "cell_type": "code",
   "execution_count": null,
   "metadata": {},
   "outputs": [],
   "source": [
    "#student\n",
    "# Answer for 4d\n",
    "..."
   ]
  },
  {
   "cell_type": "code",
   "execution_count": 7,
   "metadata": {},
   "outputs": [
    {
     "data": {
      "text/plain": [
       "0.7859219746835419"
      ]
     },
     "execution_count": 7,
     "metadata": {},
     "output_type": "execute_result"
    }
   ],
   "source": [
    "#solution \n",
    "# Answer for 4d\n",
    "n = 30\n",
    "(1 - stats.poisson.cdf(1, 0.1*n))*(1 - stats.poisson.cdf(1, 0.2*n))*(\n",
    "    1 - stats.poisson.cdf(1, 0.3*n))*(1 - stats.poisson.cdf(1, 0.4*n))"
   ]
  },
  {
   "cell_type": "markdown",
   "metadata": {},
   "source": [
    "## 5. Counting Categories, Again ##\n",
    "In each part below, just write the answer as a math expression. You don't have to find the numerical values. But please make sure there are not infinite sums in your answers.\n",
    "\n",
    "**a)** 18 dice are rolled. Find the chance that two of the faces appear 5 times each, another two faces appear 3 times each, and the remaining two faces appear 1 time each.\n",
    "\n",
    "**b)** Repeat Part **a** in the case when the number of dice rolled isn't 18 but is instead a random number that has the Poisson $(18)$ distribution.\n",
    "\n",
    "**c)** As in Part **b**, roll a random number of dice, where the random number has a Poisson $(18)$ distribution. Don't touch any die that shows the face with six spots. If there are any other dice (that is, if there are dice that don't show six spots), roll those dice one more time. Then stop.\n",
    "\n",
    "Let $S$ be the total number of dice that show the face with six spots when you stop. Find the distribution of $S$."
   ]
  },
  {
   "cell_type": "markdown",
   "metadata": {},
   "source": [
    "#staff\n",
    "\n",
    "**a** Is the \"with replacement\" version of the Counting Categories exercise in the previous homework: \"fix the particular faces and work it out, then see in how many ways you can fix the faces\".\n",
    "\n",
    "**b** tests the students' confidence with the above, along with their grip on Poissonization. The answer is a nice visual of what's the same and what's different from **a**.\n",
    "\n",
    "**c** is cute."
   ]
  },
  {
   "cell_type": "markdown",
   "metadata": {},
   "source": [
    "#solution\n",
    "\n",
    "### [Solution] Counting Categories, Again ###\n",
    "\n",
    "**a)** $\\displaystyle \\binom{6}{2}\\binom{4}{2}\\binom{2}{2} \\frac{18!}{5!5!3!3!1!1!} \\left(\\frac{1}{6}\\right)^{18}$\n",
    "\n",
    "**b)** $\\displaystyle \\binom{6}{2}\\binom{4}{2}\\binom{2}{2} \\left( e^{-3}\\frac{3^5}{5!}\\right)^2 \\left( e^{-3}\\frac{3^3}{3!}\\right)^2 \\left( e^{-3}\\frac{3^1}{1!}\\right)^2$\n",
    "\n",
    "**c)** Let $N$ be the number of dice rolled at the first stage. Then $N$ has the Poisson $(18)$ distribution. Let $S_1$ be the number of dice that show six spots in the first stage. Then $S_1$ has the Poisson $(3)$ distribution, $N-S_1$ has the Poisson $(15)$ distribution, and $S_1$ is independent of $N-S_1$. \n",
    "\n",
    "Now $N-S_1$ is the number of dice that get rolled again. Let $S_2$ be the number of these dice that show six spots. Then $S_2$ has the Poisson $(15/6 = 2.5)$ distribution, and is independent of $S_1$ because $N-S_1$ is independent of $S_1$.\n",
    "\n",
    "Since $S = S_1 + S_2$, it follows that $S$ has the Poisson $(3 + 2.5 = 5.5)$ distribution."
   ]
  },
  {
   "cell_type": "markdown",
   "metadata": {
    "#solution": false,
    "#staff": false,
    "#student": false
   },
   "source": [
    "## Submission Instructions ##\n",
    "\n",
    "Many assignments throughout the course will have a written portion and a code portion. Please follow the directions below to properly submit both portions.\n",
    "\n",
    "### Written Portion ###\n",
    "*  Scan all the pages into a PDF. You can use any scanner or a phone using an application. Please **DO NOT** simply take pictures using your phone. \n",
    "* Please start a new page for each question. If you have already written multiple questions on the same page, you can crop the image or fold your page over (the old-fashioned way). This helps expedite grading.\n",
    "* It is your responsibility to check that all the work on all the scanned pages is legible.\n",
    "* If you used $\\LaTeX$ to do the written portions, you do not need to do any scanning; you can just download the whole notebook as a PDF via LaTeX.\n",
    "\n",
    "### Code Portion ###\n",
    "* Save your notebook using File > Save and Checkpoint.\n",
    "* Generate a PDF file using File > Download as > PDF via LaTeX. This might take a few seconds and will automatically download a PDF version of this notebook.\n",
    "    * If you have issues, please make a follow-up post on the general HW 3 Ed thread.\n",
    "    \n",
    "### Submitting ###\n",
    "* Combine the PDFs from the written and code portions into one PDF.  [Here](https://smallpdf.com/merge-pdf) is a useful tool for doing so. \n",
    "* Submit the assignment to Homework 3 on Gradescope. \n",
    "* **Make sure to assign each page of your pdf to the correct question.**\n",
    "* **It is your responsibility to verify that all of your work shows up in your final PDF submission.**\n",
    "\n",
    "\n",
    "### **We will not grade assignments which do not have pages selected for each question.** "
   ]
  }
 ],
 "metadata": {
  "history": [
   {
    "code": "# Run this cell to set up your notebook\n\nimport warnings\nwarnings.filterwarnings('ignore')\n\nimport numpy as np\nfrom scipy import stats\nfrom datascience import *\nfrom prob140 import *\n\n\nimport matplotlib\n%matplotlib inline\nimport matplotlib.pyplot as plt\nplt.style.use('fivethirtyeight')",
    "id": "9f901ec111eb4b5cb9af5b5e65c79b11",
    "idx": 0,
    "time": "2021-02-04T03:09:58.460Z",
    "type": "execution"
   },
   {
    "id": "9f901ec111eb4b5cb9af5b5e65c79b11",
    "time": "2021-02-04T03:10:00.460Z",
    "type": "completion"
   },
   {
    "code": "#solution\n1 - stats.binom.cdf(10, 20, 0.49)",
    "id": "ee03b7d5264945768c239480fef8e921",
    "idx": 8,
    "time": "2021-02-04T03:10:04.041Z",
    "type": "execution"
   },
   {
    "id": "ee03b7d5264945768c239480fef8e921",
    "time": "2021-02-04T03:10:04.102Z",
    "type": "completion"
   },
   {
    "code": "#solution\nstats.binom.cdf(14, 30, 0.49)",
    "id": "9dc7b892ed7b43578c68e723f848c23f",
    "idx": 9,
    "time": "2021-02-04T03:10:04.239Z",
    "type": "execution"
   },
   {
    "id": "9dc7b892ed7b43578c68e723f848c23f",
    "time": "2021-02-04T03:10:04.300Z",
    "type": "completion"
   },
   {
    "code": "#solution\np = 0\nfor i in np.arange(0, 10):\n    p = p + stats.binom.pmf(i, 12, 0.49)*(1-stats.binom.cdf(i+2, 12, 0.49))\n    \np",
    "id": "951d7a4f8b99444a8bd5812c422d025e",
    "idx": 10,
    "time": "2021-02-04T03:10:04.403Z",
    "type": "execution"
   },
   {
    "id": "951d7a4f8b99444a8bd5812c422d025e",
    "time": "2021-02-04T03:10:04.464Z",
    "type": "completion"
   },
   {
    "code": "#solution\n\nn = 1000\np = 0.997\n\nk = np.arange(1001)                \nbinomial_probs = stats.binom.pmf(k, n, p)   \n\ndef poisson_approx(j):\n    \"\"\"Returns the Poisson approximation to the\n    exact binomial probability of j successes\"\"\"\n    return stats.poisson.pmf(n-j, n * (1-p))\n\nexact_binomial = Table().values(k).probabilities(binomial_probs)\npoisson_approximation = Table().values(k).probability_function(poisson_approx)\n\nPlots(\"Binomial\", exact_binomial, \"Poisson\", poisson_approximation)\nplt.xlim(990, 1001);",
    "id": "7bc4c576d8ac46a691c480d84244744f",
    "idx": 17,
    "time": "2021-02-04T03:10:08.759Z",
    "type": "execution"
   },
   {
    "id": "7bc4c576d8ac46a691c480d84244744f",
    "time": "2021-02-04T03:10:10.004Z",
    "type": "completion"
   },
   {
    "code": "#solution\ndef p_at_least_one(n):\n    return (1 - stats.poisson.pmf(0, 0.1*n)\n           )*(1 - stats.poisson.pmf(0, 0.2*n)\n             )*(1 - stats.poisson.pmf(0, 0.3*n)\n               )*(1 - stats.poisson.pmf(0, 0.4*n))\n\n\n\nresults = Table().with_column('Trials', np.arange(1, 50+1, 1))\n\ndifferent = results.apply(p_at_least_one, 'Trials')\n\nresults = results.with_columns(\n    'P(at least one of each)', different\n)\n\nresults.scatter('Trials', 'P(at least one of each)')",
    "id": "1b5fa6a1cd644a6894ae685693c4522a",
    "idx": 22,
    "time": "2021-02-04T03:10:12.102Z",
    "type": "execution"
   },
   {
    "id": "1b5fa6a1cd644a6894ae685693c4522a",
    "time": "2021-02-04T03:10:12.447Z",
    "type": "completion"
   },
   {
    "code": "#solution \n\nn = 30\n(1 - stats.poisson.cdf(1, 0.1*n))*(1 - stats.poisson.cdf(1, 0.2*n))*(\n    1 - stats.poisson.cdf(1, 0.3*n))*(1 - stats.poisson.cdf(1, 0.4*n))",
    "id": "944f85bf6e48483aa6daa1537be65ab7",
    "idx": 24,
    "time": "2021-02-04T03:10:14.091Z",
    "type": "execution"
   },
   {
    "id": "944f85bf6e48483aa6daa1537be65ab7",
    "time": "2021-02-04T03:10:14.147Z",
    "type": "completion"
   }
  ],
  "kernelspec": {
   "display_name": "Python 3",
   "language": "python",
   "name": "python3"
  },
  "language_info": {
   "codemirror_mode": {
    "name": "ipython",
    "version": 3
   },
   "file_extension": ".py",
   "mimetype": "text/x-python",
   "name": "python",
   "nbconvert_exporter": "python",
   "pygments_lexer": "ipython3",
   "version": "3.7.4"
  }
 },
 "nbformat": 4,
 "nbformat_minor": 4
}
