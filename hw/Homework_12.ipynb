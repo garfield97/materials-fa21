{
 "cells": [
  {
   "cell_type": "markdown",
   "metadata": {
    "#solution": false,
    "#staff": false,
    "#student": false
   },
   "source": [
    "<table align=\"left\" style=\"border-style: hidden\" class=\"table\"> <tr><td class=\"col-md-2\"><img style=\"float\" src=\"../icon_sp21.png\" alt=\"Prob140 Logo\" style=\"width: 120px;\"/></td><td><div align=\"left\"><h3 style=\"margin-top: 0;\">Probability for Data Science</h3><h4 style=\"margin-top: 20px;\">UC Berkeley, Fall 2021</h4><p>Ani Adhikari</p>CC BY-NC 4.0</div></td></tr></table><!-- not in pdf -->\n",
    "\n",
    "This content is protected and may not be shared, uploaded, or distributed."
   ]
  },
  {
   "cell_type": "markdown",
   "metadata": {
    "#solution": false,
    "#staff": false,
    "#student": false
   },
   "source": [
    "# Homework 12 #"
   ]
  },
  {
   "cell_type": "markdown",
   "metadata": {
    "#solution": false,
    "#staff": false,
    "#student": false
   },
   "source": [
    "### Instructions\n",
    "\n",
    "Your homeworks have two components: a written portion and a portion that also involves code.  Written work should be completed on paper, and coding questions should be done in the notebook.  You are welcome to $\\LaTeX$ your answers to the written portions, but staff will not be able to assist you with $\\LaTeX$ related issues. It is your responsibility to ensure that both components of the homework are submitted completely and properly to Gradescope. **Make sure to assign each page of your pdf to the correct question.** Refer to the bottom of the notebook for submission instructions."
   ]
  },
  {
   "cell_type": "code",
   "execution_count": null,
   "metadata": {
    "#solution": false,
    "#staff": false,
    "#student": false
   },
   "outputs": [],
   "source": [
    "# HIDDEN\n",
    "from datascience import *\n",
    "from prob140 import *\n",
    "import numpy as np\n",
    "import matplotlib.pyplot as plt\n",
    "plt.style.use('fivethirtyeight')\n",
    "%matplotlib inline\n",
    "from scipy import stats\n",
    "from scipy import special\n",
    "import warnings\n",
    "warnings.filterwarnings('ignore')"
   ]
  },
  {
   "cell_type": "markdown",
   "metadata": {
    "#solution": false,
    "#staff": false,
    "#student": false
   },
   "source": [
    "## 1. Sections ##\n",
    "A class of 60 students has three sections. Summary statistics for scores on Quiz 7:\n",
    "- Section 1: 25 students, mean 25, SD 3\n",
    "- Section 2: 20 students, mean 23, SD 2 \n",
    "- Section 3: 15 students, mean 27, SD 4\n",
    "\n",
    "Let $S$ be the Quiz 7 score of a student picked at random from the class. Use the code cells below to calculate numerical answers for parts **a** and **b**.\n",
    "\n",
    "**a)** Find $E(S)$.\n",
    "\n",
    "**b)** Find $SD(S)$."
   ]
  },
  {
   "cell_type": "code",
   "execution_count": null,
   "metadata": {
    "#solution": false,
    "#staff": false,
    "#student": true
   },
   "outputs": [],
   "source": [
    "# Calculation for a\n",
    "..."
   ]
  },
  {
   "cell_type": "code",
   "execution_count": null,
   "metadata": {
    "#solution": false,
    "#staff": false,
    "#student": true
   },
   "outputs": [],
   "source": [
    "# Calculation for b\n",
    "..."
   ]
  },
  {
   "cell_type": "markdown",
   "metadata": {
    "#solution": false,
    "#staff": false,
    "#student": false
   },
   "source": [
    "\\newpage"
   ]
  },
  {
   "cell_type": "markdown",
   "metadata": {
    "#solution": false,
    "#staff": false,
    "#student": false
   },
   "source": [
    "## 2. Accident Claims ##\n",
    "\n",
    "Poisson processes are standard models used by actuaries and industrial engineers. For this exercise you'll need [Part 1 of the Poisson Process lab](http://prob140.datahub.berkeley.edu/hub/user-redirect/git-pull?repo=https://github.com/prob140/materials-fa21&branch=main&subPath=lab/Lab_07.ipynb) and one of the examples in Section 22.4. \n",
    "\n",
    "At a street intersection, accidents happen according to a Poisson process at a rate of $\\lambda$ per month. Each accident leads to an insurace claim of a random dollar amount. Assume that the amounts of the claims are i.i.d. with mean $\\mu$ and SD $\\sigma$, independent of the process of accidents.\n",
    "\n",
    "Find the expectation and variance of the total amount claimed for accidents at that intersection in a year."
   ]
  },
  {
   "cell_type": "markdown",
   "metadata": {
    "#solution": false,
    "#staff": false,
    "#student": false
   },
   "source": [
    "\\newpage"
   ]
  },
  {
   "cell_type": "markdown",
   "metadata": {
    "#solution": false,
    "#staff": false,
    "#student": false
   },
   "source": [
    "## 3. Two-Colored Die ##\n",
    "\n",
    "A die that has two green faces and four blue faces is rolled repeatedly. Let $R$ be the number of rolls till both colors have appeared.\n",
    "\n",
    "**a)** Find $E(R)$.\n",
    "\n",
    "**b)** Find $SD(R)$."
   ]
  },
  {
   "cell_type": "markdown",
   "metadata": {
    "#solution": false,
    "#staff": false,
    "#student": false
   },
   "source": [
    "\\newpage"
   ]
  },
  {
   "cell_type": "markdown",
   "metadata": {
    "#solution": false,
    "#staff": false,
    "#student": false
   },
   "source": [
    "## 4. Overlapping Counts ##\n",
    "Consider a sequence of i.i.d. Bernoulli $(p)$ trials. Consider the three variables $X$, $Y$, and $V$ defined by:\n",
    "\n",
    "- $X$ is the number of successes in trials 1 through 100\n",
    "- $Y$ is the number of successes in trials 51 through 100\n",
    "- $V$ is the number of successes in trials 51 through 150\n",
    "\n",
    "**a)** For each of $X$, $Y$, and $V$, say what the distribution is and provide the parameters.\n",
    "\n",
    "**b)** Fix $k$ in the range $0, 1, \\ldots, 100$ and find the conditional distribution of $Y$ given $X = k$. Recognize this as a famous one and provide the parameters.\n",
    "\n",
    "**c)** Find the least squares predictor of $Y$ based on $X$ and say whether it is a linear function of $X$. (If it is, then the best linear predictor is in fact the best among all predictors.) Find $Var(Y \\mid X)$.\n",
    "\n",
    "**d)** Find $E(V \\mid X)$, $Var(V \\mid X)$, and the correlation $r(X, V)$.\n",
    "\n",
    "**e)** Simulate 20,000 $(X, V)$ pairs for $p = 0.5$ and draw the scatter plot of the observed points. Plot $E(V \\mid X)$ as a function of $X$ on the same plot. Use the cell below. The arrays `x` and `v` should contain the observed values of $X$ and $V$. The array `exp_V_given_x` should contain $E(V \\mid X = x)$ for each $x$ in `x`, using the formula you derived in **d**."
   ]
  },
  {
   "cell_type": "code",
   "execution_count": null,
   "metadata": {
    "#solution": false,
    "#staff": false,
    "#student": true
   },
   "outputs": [],
   "source": [
    "# Simulation for e\n",
    "\n",
    "...\n",
    "\n",
    "x = ...\n",
    "v = ...\n",
    "exp_V_given_x = ...\n",
    "\n",
    "# Don't change the lines below\n",
    "plt.figure(figsize=(6, 6))\n",
    "plt.axes().set_aspect('equal')\n",
    "plt.xticks(np.arange(30, 71, 10))\n",
    "plt.yticks(np.arange(30, 71, 10))\n",
    "plt.scatter(x, v, color='darkblue', s=10)\n",
    "plt.scatter(x, exp_V_given_x, color='gold', s=10);"
   ]
  },
  {
   "cell_type": "markdown",
   "metadata": {
    "#solution": false,
    "#staff": false,
    "#student": false
   },
   "source": [
    "\\newpage"
   ]
  },
  {
   "cell_type": "markdown",
   "metadata": {
    "#solution": false,
    "#staff": false,
    "#student": false
   },
   "source": [
    "## 5. Uniform Stick-Breaking ##\n",
    "A point $X$ is chosen uniformly from the interval $(0, 10)$ and then a point $Y$ is chosen uniformly from the interval $(0, X)$. This can be imagined as snapping a stick of length 10 and then snapping one of the broken bits. [Stick-breaking](https://en.wikipedia.org/wiki/Dirichlet_process#The_stick-breaking_process) processes are related to the [Chinese Restaurant process](https://en.wikipedia.org/wiki/Chinese_restaurant_process).\n",
    "\n",
    "**a)** Find $E(X)$ and $Var(X)$. See [Section 15.3](http://prob140.org/textbook/content/Chapter_15/03_Expectation.html#uniform-a-b) of the textbook for the variance of the uniform.\n",
    "\n",
    "**b)** Find $E(Y)$ and $Var(Y)$ by conditioning on $X$."
   ]
  },
  {
   "cell_type": "markdown",
   "metadata": {
    "#solution": false,
    "#staff": false,
    "#student": false
   },
   "source": [
    "## Submission Instructions ##\n",
    "\n",
    "Many assignments throughout the course will have a written portion and a code portion. Please follow the directions below to properly submit both portions.\n",
    "\n",
    "### Written Portion ###\n",
    "*  Scan all the pages into a PDF. You can use any scanner or a phone using an application. Please **DO NOT** simply take pictures using your phone. \n",
    "* Please start a new page for each question. If you have already written multiple questions on the same page, you can crop the image or fold your page over (the old-fashioned way). This helps expedite grading.\n",
    "* It is your responsibility to check that all the work on all the scanned pages is legible.\n",
    "* If you used $\\LaTeX$ to do the written portions, you do not need to do any scanning; you can just download the whole notebook as a PDF via LaTeX.\n",
    "\n",
    "### Code Portion ###\n",
    "* Save your notebook using File > Save and Checkpoint.\n",
    "* Generate a PDF file using File > Download as > PDF via LaTeX. This might take a few seconds and will automatically download a PDF version of this notebook.\n",
    "    * If you have issues, please make a follow-up post on the general HW 12 Ed thread.\n",
    "    \n",
    "### Submitting ###\n",
    "* Combine the PDFs from the written and code portions into one PDF.  [Here](https://smallpdf.com/merge-pdf) is a useful tool for doing so. \n",
    "* Submit the assignment to Homework 12 on Gradescope. \n",
    "* **Make sure to assign each page of your pdf to the correct question.**\n",
    "* **It is your responsibility to verify that all of your work shows up in your final PDF submission.**\n",
    "\n",
    "\n",
    "### **We will not grade assignments which do not have pages selected for each question.** "
   ]
  }
 ],
 "metadata": {
  "anaconda-cloud": {},
  "checksums": [
   "0011ff961059cb30605bb0bb5db4b42e",
   "886d419f98f0e38082de6261b7a7d80d",
   "0350987bcbc0b4e3840dce42e8623734",
   "0a0301250528f1b4b19d89d505d466fb",
   "2bf83215a30545d1c1860a045efc7cfe",
   "c97115c51db7140b3b42a9f66ab6e8fd",
   "edc2a654819ca63a1772108f8016f75e",
   "562505d567faf02dfc9388e81e89d07b",
   "4e71bd0d028bface01bc2bb4bc6b6c5e",
   "562505d567faf02dfc9388e81e89d07b",
   "951e5bd39ff2d8057b5ca48ea1f861cd",
   "562505d567faf02dfc9388e81e89d07b",
   "eec29b0089efc85a94b0ead8e1c020fa",
   "267859882c4a85945ee341de471af8e6",
   "562505d567faf02dfc9388e81e89d07b",
   "bc127d741753a07e1f586769f8ba48a8",
   "f4801c58737f9063aa0503d256bcf40d"
  ],
  "kernelspec": {
   "display_name": "Python 3 (ipykernel)",
   "language": "python",
   "name": "python3"
  },
  "language_info": {
   "codemirror_mode": {
    "name": "ipython",
    "version": 3
   },
   "file_extension": ".py",
   "mimetype": "text/x-python",
   "name": "python",
   "nbconvert_exporter": "python",
   "pygments_lexer": "ipython3",
   "version": "3.9.7"
  },
  "number_of_pagebreaks": 0
 },
 "nbformat": 4,
 "nbformat_minor": 1
}
