{
 "cells": [
  {
   "cell_type": "markdown",
   "metadata": {
    "#solution": false,
    "#staff": false,
    "#student": false
   },
   "source": [
    "<table align=\"left\" style=\"border-style: hidden\" class=\"table\"> <tr><td class=\"col-md-2\"><img style=\"float\" src=\"../icon_sp21.png\" alt=\"Prob140 Logo\" style=\"width: 120px;\"/></td><td><div align=\"left\"><h3 style=\"margin-top: 0;\">Probability for Data Science</h3><h4 style=\"margin-top: 20px;\">UC Berkeley, Fall 2021</h4><p>Ani Adhikari</p>CC BY-NC 4.0</div></td></tr></table><!-- not in pdf -->\n",
    "\n",
    "This content is protected and may not be shared, uploaded, or distributed."
   ]
  },
  {
   "cell_type": "markdown",
   "metadata": {
    "#solution": false,
    "#staff": false,
    "#student": false
   },
   "source": [
    "# Homework 13"
   ]
  },
  {
   "cell_type": "markdown",
   "metadata": {
    "#solution": false,
    "#staff": false,
    "#student": false
   },
   "source": [
    "### Instructions\n",
    "\n",
    "Your homeworks have two components: a written portion and a portion that also involves code.  Written work should be completed on paper, and coding questions should be done in the notebook.  You are welcome to $\\LaTeX$ your answers to the written portions, but staff will not be able to assist you with $\\LaTeX$ related issues. It is your responsibility to ensure that both components of the homework are submitted completely and properly to Gradescope. **Make sure to assign each page of your pdf to the correct question.** Refer to the bottom of the notebook for submission instructions."
   ]
  },
  {
   "cell_type": "markdown",
   "metadata": {
    "#solution": false,
    "#staff": false,
    "#student": false
   },
   "source": [
    "## 1. Predicting Waiting Times Till $HH$ ##"
   ]
  },
  {
   "cell_type": "markdown",
   "metadata": {
    "#solution": false,
    "#staff": false,
    "#student": false
   },
   "source": [
    "In a lab earlier in the term, you found a formula for the expected waiting time till any finite pattern of heads and tails appears in a sequence of coin tosses. In this exercise you will revisit that calculation in the case of a simple pattern $HH$.\n",
    "\n",
    "A $p$-coin is tossed repeatedly. Let $W_{H}$ be the number of tosses till the first head appears, and $W_{HH}$ the number of tosses till two consecutive heads appear.\n",
    "\n",
    "**a)** Describe a random variable $X$ that depends only on the tosses after $W_{H}$ and satisfies $W_{HH} \\stackrel{d}{=} W_{H} + X$.\n",
    "\n",
    "**b)** Use Part (a) to find $E(X)$.\n",
    "\n",
    "**c)** Use Parts (a) and (b) to find $Var(X)$. \n",
    "\n",
    "**d)** Find the least squares predictor of $W_{HH}$ based on $W_{H}$ and state whether it is a linear function of $W_{H}$. \n",
    "\n",
    "**e)** Find the MSE of the least squares predictor. \n",
    "\n",
    "**f)** Is the correlation $r(W_{HH}, W_{H})$ an increasing function of $p$, a decreasing function of $p$, or neither? Explain.\n",
    "\n",
    "[This one does not require any calculation. Think about what a scatter plot of $(W_H, W_{HH})$ would look like for small vs large values of $p$.] "
   ]
  },
  {
   "cell_type": "markdown",
   "metadata": {
    "#solution": false,
    "#staff": false,
    "#student": false
   },
   "source": [
    "\\newpage"
   ]
  },
  {
   "cell_type": "markdown",
   "metadata": {
    "#solution": false,
    "#staff": false,
    "#student": false
   },
   "source": [
    "## 2. Random Vector Workout ##\n",
    "\n",
    "A random vector $\\mathbf{Y} = [Y_1 ~~ Y_2 ~~ \\cdots ~~ Y_n]^T$ has mean vector $\\boldsymbol{\\mu}$ and covariance matrix $\\sigma^2 \\mathbf{I}_n$ where $\\sigma > 0$ is a number and $\\mathbf{I}_n$ is the $n \\times n$ identity matrix. \n",
    "\n",
    "**a)** Pick one option and explain: $Y_1$ and $Y_2$ are\n",
    "\n",
    "$~~~~~$ (i) independent. $~~~~~~~~$ (ii) uncorrelated but might not be independent. $~~~~~~~~$ (iii) not uncorrelated.\n",
    "\n",
    "**b)** Pick one option and explain: $Var(Y_1)$ and $Var(Y_2)$ are\n",
    "\n",
    "$~~~~~$ (i) equal. $~~~~~~~~$ (ii) possibly equal, but might not be. $~~~~~~~~$ (iii) not equal.\n",
    "\n",
    "**c)** For $m \\le n$ let $\\mathbf{A}$ be an $m \\times n$ matrix of real numbers, and let $\\mathbf{b}$ be an $m \\times 1$ vector of real numbers. Let $\\mathbf{V} = \\mathbf{AY} + \\mathbf{b}$. Find the mean vector $\\boldsymbol{\\mu}_\\mathbf{V}$ and covariance matrix $\\boldsymbol{\\Sigma}_\\mathbf{V}$ of $\\mathbf{V}$.\n",
    "\n",
    "**d)** Let $\\mathbf{c}$ be an $m \\times 1$ vector of real numbers and let $W = \\mathbf{c}^T\\mathbf{V}$ for $\\mathbf{V}$ defined in Part (c). In terms of $\\mathbf{c}$, $\\boldsymbol{\\mu}_\\mathbf{V}$ and $\\boldsymbol{\\Sigma}_\\mathbf{V}$, find $E(W)$ and $Var(W)$."
   ]
  },
  {
   "cell_type": "markdown",
   "metadata": {
    "#solution": false,
    "#staff": false,
    "#student": false
   },
   "source": [
    "\\newpage"
   ]
  },
  {
   "cell_type": "markdown",
   "metadata": {
    "#solution": false,
    "#staff": false,
    "#student": false
   },
   "source": [
    "## 3. Correlated-Uncorrelated Transformations ##\n",
    "\n",
    "You know (see the end of Section 23.1) that every covariance matrix is positive semidefinite. Consider a random vector that has a positive definite covariance matrix instead of just positive semidefinite.\n",
    "\n",
    "In this exercise you will show how any such random vector can be written as a linear transformation of a random vector that has uncorrelated components. In the process, you will also show that any positive definite matrix is the covariance matrix of some random vector.\n",
    "\n",
    "You will need (but don't have to prove) the following important general result about positive definite matrices. If $\\mathbf{M}$ is a positive definite matrix, then $\\mathbf{M} = \\mathbf{LL}^T$ where $\\mathbf{L}$ is a lower triangular matrix with positive diagonal entries and is hence invertible. This is called the *Cholesky decomposition*. See the end of Section 23.2 for another use of this decomposition.\n",
    "\n",
    "**a)** Let $\\boldsymbol{\\Sigma}$ be any positive definite matrix. Construct a random vector $\\mathbf{Y}$ such that $\\boldsymbol{\\Sigma}$ is the covariance matrix of $\\mathbf{Y}$.\n",
    "\n",
    "[Start with any random vector that has the identity matrix as its covariance matrix. Use the Cholesky decomposition to construct the answer as an appropriate linear transformation of this vector.]\n",
    "\n",
    "**b)** Let a random vector $\\mathbf{Y}$ have a positive definite covariance matrix $\\boldsymbol{\\Sigma}$. Show that $\\mathbf{Y}$ can be written as a linear transformation of a random vector $\\mathbf{X}$ that has uncorrelated entries all of which have variance $1$.\n",
    "\n",
    "[It's not enough to just apply (a) here, for the same reason that for random variables $A$ and $B$, $Var(A)=Var(3B)$ does not guarantee $A$ and $3B$ have the same distribution. Start by writing $\\mathbf{X}$ in terms of $\\mathbf{Y}$, such that $\\mathbf{X}$ has the covariance structure defined above.]"
   ]
  },
  {
   "cell_type": "markdown",
   "metadata": {
    "#solution": false,
    "#staff": false,
    "#student": false
   },
   "source": [
    "\\newpage"
   ]
  },
  {
   "cell_type": "markdown",
   "metadata": {
    "#solution": false,
    "#staff": false,
    "#student": false
   },
   "source": [
    "## 4. Normals and Coins ##\n",
    "\n",
    "Let $X$ be standard normal. Construct a random variable $Y$ as follows:\n",
    "\n",
    "- Toss a fair coin.\n",
    "- If the coin lands heads, let $Y = X$.\n",
    "- If the coin lands tails, let $Y = -X$.\n",
    "\n",
    "**a)** Find the cdf of $Y$.\n",
    "\n",
    "**b)** Find $E(XY)$ by conditioning on the result of the toss.\n",
    "\n",
    "**c)** Are $X$ and $Y$ uncorrelated? \n",
    "\n",
    "**d)** Are $X$ and $Y$ independent?\n",
    "\n",
    "**e)** Is the joint distribution of $X$ and $Y$ bivariate normal?"
   ]
  },
  {
   "cell_type": "markdown",
   "metadata": {
    "#solution": false,
    "#staff": false,
    "#student": false
   },
   "source": [
    "\\newpage"
   ]
  },
  {
   "cell_type": "markdown",
   "metadata": {
    "#solution": false,
    "#staff": false,
    "#student": false
   },
   "source": [
    "## 5. Stock Prices ##"
   ]
  },
  {
   "cell_type": "markdown",
   "metadata": {
    "#solution": false,
    "#staff": false,
    "#student": false
   },
   "source": [
    "Shahzar, Ophelia, and Xinran are each watching the net profits of three different stocks. Let the random variables $X_1$, $X_2$, and $X_3$ represent the net profits of Shahzar's, Ophelia's, and Xinran's stocks, respectively.\n",
    "\n",
    "The net profits (in dollars) of their three stocks $[X_1 \\quad X_2 \\quad X_3]^T$ are multivariate normal with mean vector $\\boldsymbol{\\mu}$ and covariance matrix $\\boldsymbol{\\Sigma}$ given by\n",
    "\n",
    "$$\\boldsymbol{\\mu} = \\begin{bmatrix} 3\\\\ 3\\\\ 5\\end{bmatrix} \\qquad \\boldsymbol{\\Sigma} = \\begin{bmatrix} 4 & 3 & 1\\\\ 3 & 4 & 2\\\\ 1 & 2 & 16 \\end{bmatrix}$$\n",
    "\n",
    "For the following parts, leave all your answers in terms of $\\Phi$. \n",
    "\n",
    "**a)** Find the chance that Xinran gets a greater net profit than Shahzar's and Ophelia's combined net profit.\n",
    "\n",
    "**b)** Find the chance that Ophelia's and Shahzar's net profits are within $\\$1$ of each other *and* their combined net profit is at least $\\$5$."
   ]
  },
  {
   "cell_type": "markdown",
   "metadata": {
    "#solution": false,
    "#staff": false,
    "#student": false
   },
   "source": [
    "## Submission Instructions ##\n",
    "\n",
    "Many assignments throughout the course will have a written portion and a code portion. Please follow the directions below to properly submit both portions.\n",
    "\n",
    "### Written Portion ###\n",
    "*  Scan all the pages into a PDF. You can use any scanner or a phone using an application. Please **DO NOT** simply take pictures using your phone. \n",
    "* Please start a new page for each question. If you have already written multiple questions on the same page, you can crop the image or fold your page over (the old-fashioned way). This helps expedite grading.\n",
    "* It is your responsibility to check that all the work on all the scanned pages is legible.\n",
    "* If you used $\\LaTeX$ to do the written portions, you do not need to do any scanning; you can just download the whole notebook as a PDF via LaTeX.\n",
    "\n",
    "### Code Portion ###\n",
    "* Save your notebook using File > Save and Checkpoint.\n",
    "* Generate a PDF file using File > Download as > PDF via LaTeX. This might take a few seconds and will automatically download a PDF version of this notebook.\n",
    "    * If you have issues, please make a follow-up post on the general HW 13 Ed thread.\n",
    "    \n",
    "### Submitting ###\n",
    "* Combine the PDFs from the written and code portions into one PDF.  [Here](https://smallpdf.com/merge-pdf) is a useful tool for doing so. \n",
    "* Submit the assignment to Homework 13 on Gradescope. \n",
    "* **Make sure to assign each page of your pdf to the correct question.**\n",
    "* **It is your responsibility to verify that all of your work shows up in your final PDF submission.**\n",
    "\n",
    "\n",
    "### **We will not grade assignments which do not have pages selected for each question.** "
   ]
  }
 ],
 "metadata": {
  "checksums": [
   "0011ff961059cb30605bb0bb5db4b42e",
   "cba92c7547381925a68ef0571c9bba30",
   "0350987bcbc0b4e3840dce42e8623734",
   "4dfac7df6de03e1bc097d9518c56d5c8",
   "4cba55654ea2ebef415e83fe90b8abb8",
   "562505d567faf02dfc9388e81e89d07b",
   "7056105408cec3028475e8e89c3facf3",
   "562505d567faf02dfc9388e81e89d07b",
   "e53d41f0f832e1b00b4f732f41a0bff2",
   "562505d567faf02dfc9388e81e89d07b",
   "c42682f3b65e4c694541c96a2b5eae11",
   "562505d567faf02dfc9388e81e89d07b",
   "ba3aee81957acbdc4918523caf8382e3",
   "029fa801066c0a89a46f3960bd7d3f31",
   "7aa21803670582d4e5693b8c51a0f596"
  ],
  "kernelspec": {
   "display_name": "Python 3",
   "language": "python",
   "name": "python3"
  },
  "language_info": {
   "codemirror_mode": {
    "name": "ipython",
    "version": 3
   },
   "file_extension": ".py",
   "mimetype": "text/x-python",
   "name": "python",
   "nbconvert_exporter": "python",
   "pygments_lexer": "ipython3",
   "version": "3.7.4"
  },
  "number_of_pagebreaks": 0
 },
 "nbformat": 4,
 "nbformat_minor": 2
}
