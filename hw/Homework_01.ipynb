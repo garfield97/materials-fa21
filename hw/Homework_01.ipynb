{
 "cells": [
  {
   "cell_type": "markdown",
   "metadata": {
    "#solution": false,
    "#staff": false,
    "#student": false
   },
   "source": [
    "<table align=\"left\" style=\"border-style: hidden\" class=\"table\"> <tr><td class=\"col-md-2\"><img style=\"float\" src=\"../icon_sp21.png\" alt=\"Prob140 Logo\" style=\"width: 120px;\"/></td><td><div align=\"left\"><h3 style=\"margin-top: 0;\">Probability for Data Science</h3><h4 style=\"margin-top: 20px;\">UC Berkeley, Fall 2021</h4><p>Ani Adhikari</p>CC BY-NC 4.0</div></td></tr></table><!-- not in pdf -->\n",
    "\n",
    "This content is protected and may not be shared, uploaded, or distributed."
   ]
  },
  {
   "cell_type": "markdown",
   "metadata": {
    "#solution": false,
    "#staff": false,
    "#student": false
   },
   "source": [
    "# Homework 1 #"
   ]
  },
  {
   "cell_type": "markdown",
   "metadata": {
    "#solution": false,
    "#staff": false,
    "#student": false
   },
   "source": [
    "### Instructions\n",
    "\n",
    "Your homeworks have two components: a written portion and a portion that also involves code.  Written work should be completed on paper, and coding questions should be done in the notebook.  You are welcome to $\\LaTeX$ your answers to the written portions, but staff will not be able to assist you with $\\LaTeX$ related issues. It is your responsibility to ensure that both components of the homework are submitted completely and properly to Gradescope. **Make sure to assign each page of your pdf to the correct question.** Refer to the bottom of the notebook for submission instructions."
   ]
  },
  {
   "cell_type": "code",
   "execution_count": null,
   "metadata": {
    "#solution": false,
    "#staff": false,
    "#student": false
   },
   "outputs": [],
   "source": [
    "# Run this cell\n",
    "from prob140 import *\n",
    "from datascience import *\n",
    "import numpy as np\n",
    "from scipy import special\n",
    "\n",
    "import matplotlib.pyplot as plt\n",
    "%matplotlib inline\n",
    "import matplotlib\n",
    "matplotlib.style.use('fivethirtyeight')"
   ]
  },
  {
   "cell_type": "markdown",
   "metadata": {
    "#solution": false,
    "#staff": false,
    "#student": false
   },
   "source": [
    "### How to Do Your Homework ###\n",
    "The point of homework is for you to try your hand at using what you've learned in class. The steps to follow:\n",
    "\n",
    "- Go to sessions held by the Instructor and GSIs, and also go over the relevant text sections before starting on the homework. This will remind you what was covered in class, and the text will typically contain examples not covered in lecture. **The weekly Study Guide will list what you should read.**\n",
    "- Work on some of the practice problems before starting on the homework.\n",
    "- Attempt the homework problems by yourself with the text, section work, and practice materials all at hand. Sometimes the current lab will help as well. The two steps above will help this step go faster and be more fruitful.\n",
    "- At this point, seek help if you need it. Don't ask how to do the problem — ask how to get started, or for a nudge to get you past where you are stuck.\n",
    "- For a good measure of your understanding, keep track of the fraction of the homework you can do by yourself or with minimal help. It's a better measure than your homework score, and only you can measure it."
   ]
  },
  {
   "cell_type": "markdown",
   "metadata": {
    "#solution": false,
    "#staff": false,
    "#student": false
   },
   "source": [
    "### Rules for Homework ###\n",
    "- Every answer should contain a calculation or reasoning. For example, a calculation such as $(1/3)(0.8) + (2/3)(0.7)$ or `sum([(1/3)*0.8, (2/3)*0.7])`is fine without further explanation or simplification. If we want you to simplify, we'll ask you to. But just ${5 \\choose 2}$ by itself is not fine; write \"we want any 2 out of the 5 frogs and they can appear in any order\" or whatever reasoning you used. Reasoning can be brief and abbreviated, e.g. \"product rule\" or \"not mutually excl.\"\n",
    "- You may consult others (see \"How to Do Your Homework\" above) but you must write up your own answers using your own words, notation, and sequence of steps.\n",
    "- We'll be using Gradescope. You must submit the homework according to the instructions at the end of homework set."
   ]
  },
  {
   "cell_type": "markdown",
   "metadata": {
    "#solution": false,
    "#staff": false,
    "#student": false
   },
   "source": [
    "**Note:** We recommend you draw diagrams to assist you with the homework. Venn diagrams, tree diagrams, charts of outcomes—these will all help you with working through the homework."
   ]
  },
  {
   "cell_type": "markdown",
   "metadata": {
    "#solution": false,
    "#staff": false,
    "#student": false
   },
   "source": [
    "## 1. Heads in Coin Tossing\n",
    "\n",
    "This is one of the fundamental models of probability theory. Note that unless otherwise specified, coins in this course are assumed to be fair and tosses are assumed to be independent of each other. That is, the chance of heads on any toss or tosses is not affected by the results of other tosses.\n",
    "\n",
    "This exercise is a series of quick observations. Before you start, look over the reference in the Basic Counting section of the [Math Prerequisites](http://prob140.org/prereqs/) page.\n",
    "\n",
    "Suppose you toss a coin $n$ times and note down the sequence of heads (H) and tails (T). \n",
    "\n",
    "Fix an integer $k$ such that $0 \\le k \\le n$.\n",
    "\n",
    "**a)** In total, how many possible sequences are there? How many sequences have $k$ heads? \n",
    "\n",
    "[That means exactly $k$ heads, now and throughout the course. To answer the second question, it might help to imagine that there are $n$ empty spaces and you have to write the letter H in $k$ of them.]\n",
    "\n",
    "**b)** What is the chance that you get $k$ heads in your $n$ tosses? Why?\n",
    "\n",
    "**c)** Does your answer in **b** make sense in the cases $k=0$ and $k=n$? Explain.\n",
    "\n",
    "**d)** `SciPy` is a Python library for scientific computing. You will be using it a lot in this course. In particular, the `special` module of `SciPy` computes combinatorial terms and has been imported in this notebook. \n",
    "\n",
    "To calculate $\\binom{n}{k}$, use `special.comb(n, k)` as in the example below."
   ]
  },
  {
   "cell_type": "code",
   "execution_count": null,
   "metadata": {
    "#solution": false,
    "#staff": false,
    "#student": false
   },
   "outputs": [],
   "source": [
    "# 10 choose 2\n",
    "\n",
    "special.comb(10, 2)"
   ]
  },
  {
   "cell_type": "markdown",
   "metadata": {
    "#solution": false,
    "#staff": false,
    "#student": false
   },
   "source": [
    "A class has 9 GSIs. Each GSI tosses a coin 14 times and notes the number of heads. In the cell below, write an expression that evaluates to the chance that at least one GSI gets 7 heads. As this is the first homework and you're not yet used to the conventions of the course, we point out again that \"7 heads\" means exactly 7 heads and that you should not import any other libraries. "
   ]
  },
  {
   "cell_type": "code",
   "execution_count": null,
   "metadata": {
    "#solution": false,
    "#staff": false,
    "#student": true
   },
   "outputs": [],
   "source": [
    "# Answer to 1d\n",
    "\n",
    "..."
   ]
  },
  {
   "cell_type": "markdown",
   "metadata": {
    "#solution": false,
    "#staff": false,
    "#student": false
   },
   "source": [
    "**e)** The calculation of $\\binom{n}{k}$ involves factorials, and factorials get large very quickly. *Stirling's approximation* says that for large $n$\n",
    "\n",
    "$$\n",
    "n! ~ \\sim ~ \\sqrt{2 \\pi n} \\cdot (n/e)^n\n",
    "$$\n",
    "\n",
    "where the symbol $\\sim$ is read as \"is asymptotically equivalent to\" and means that the ratio of the two sides goes to 1 as $n$ tends to $\\infty$.\n",
    "\n",
    "Let $m$ be a positive integer. Use Stirling's formula to approximate the chance of getting $m$ heads in $2m$ tosses of a fair coin, and say what the limit is as $m \\to \\infty$. \n",
    "\n",
    "**f)** An informal statement of the \"law of averages\" is that if you keep tossing, then in the long run you get about half heads and half tails. Explain briefly why your answer to Part **e** doesn't contradict this statement."
   ]
  },
  {
   "cell_type": "markdown",
   "metadata": {
    "#solution": false,
    "#staff": false,
    "#student": false
   },
   "source": [
    "#newpage"
   ]
  },
  {
   "cell_type": "markdown",
   "metadata": {
    "#solution": false,
    "#staff": false,
    "#student": false
   },
   "source": [
    "## 2. Persistent Gambler ##\n",
    "\n",
    "A gambler plays two games of chance. Every time she plays Game A, she has chance $\\frac{1}{5n}$ of winning, regardless of the outcomes of all other games. Every time she plays Game B, she has chance $\\frac{1}{n}$ of winning, regardless of the results of all other games.\n",
    "\n",
    "She has decided on the following strategy.\n",
    "\n",
    "- She keeps playing Game A until either she wins or she has played Game A $n$ times and lost every time.\n",
    "- If she loses all $n$ times on Game A, she starts playing Game B. She keeps playing until either she wins or she has played Game B $n$ times and lost every time.\n",
    "\n",
    "**a)** What is the chance that the gambler doesn't have to play Game B?\n",
    "\n",
    "**b)** Let $W$ be the event that the gambler ends on a win. Partition $W$ by filling in the blank with a verbal description of an event, and then use the partition to find $P(W)$.\n",
    "\n",
    "$$\n",
    "W ~ = ~ \\{\\text{doesn't have to play Game B}\\} ~ \\text{or} ~ \\{\\underline{~~~~~~~~~~~~~~~~~~~~~~~~~~~~~~~~~~~~~~~~~~~~~~~~~~~~~~~~~~~~~~~~~~~~~~~~~~~~~~~~~~~~~~~~~~~~~}\\}\n",
    "$$\n",
    "\n",
    "**c)** The complement $W^c$ can be written as $W^c = A_nB_n$ where $A_n$ is an event based only on playing Game A $n$ times and $B_n$ is an event based only on playing Game B $n$ times. Give verbal descriptions of $A_n$ and $B_n$, and hence use $W^c = A_nB_n$ to find $P(W)$. Show that the answer is equal to the answer in Part **b**.\n",
    "\n",
    "**d)** Assume $n$ is large, and find an exponential approximation to the chance that the gambler ends on a win. After you have shown the math, in the cell below write an expression the evaluates to the approximate numerical value of the chance. Use `np.e` for $e$."
   ]
  },
  {
   "cell_type": "code",
   "execution_count": null,
   "metadata": {
    "#solution": false,
    "#staff": false,
    "#student": true
   },
   "outputs": [],
   "source": [
    "# Numerical answer to 2d\n",
    "\n",
    "..."
   ]
  },
  {
   "cell_type": "markdown",
   "metadata": {
    "#solution": false,
    "#staff": false,
    "#student": false
   },
   "source": [
    "#newpage"
   ]
  },
  {
   "cell_type": "markdown",
   "metadata": {
    "#solution": false,
    "#staff": false,
    "#student": false
   },
   "source": [
    "## 3. Combining Proportions ##\n",
    "\n",
    "The Pew Research Foundation is a \"nonpartisan fact tank\" that conducts numerous careful surveys both nationally and internationally. The data below are from various Pew surveys in 2018 and 2019.\n",
    "\n",
    "Remember the advice to draw diagrams. For the arithmetic, you can use the cell below the question.\n",
    "\n",
    "**a)** In 2018, the adult population of the US was about 8.5 times the adult population of Canada. The percent of adults who didn't own a cell phone was 25% in Canada and only 6% in the US. Suppose you had picked one person at random from the combined adult population in the US and Canada in 2018. Pick the correct option below; if you pick (iii), fill in the blank with the chance.\n",
    "\n",
    "Given that the selected person didn't own a cell phone, the chance that the person was from the US is\n",
    "\n",
    "(i) $\\frac{6}{6+25} \\approx \\frac{1}{5}$\n",
    "\n",
    "(ii) not possible to find based on the information given\n",
    "\n",
    "(iii) neither of the above; the chance is equal to $\\underline{~~~~~~~~~~~~~~~~~~}$\n",
    "\n",
    "**b)** In 2019, the Pew Foundation surveyed US adults to ask if they had read books in print or digital formats in the past 12 months. Of the surveyed adults,\n",
    "- 1% did not respond\n",
    "- 27% responded that they had not read a book in any format in the past 12 months\n",
    "- 65% responded that they had read a print book in the past 12 months\n",
    "- 35% responded that they had read a digital book in the past 12 months\n",
    "\n",
    "Suppose you picked one of the surveyed adults at random. Find the chance that the selected person responded that they had read both a print book and a digital book in the past 12 months, if it is possible to find it based on the information given. If this is not possible, explain why not.\n",
    "\n",
    "**c)** The bar chart below summarizes some other results from the survey in Part **b**. For example, among the surveyed adults who were 50+ years old, 31% had not read a book in any format in the past 12 months.\n",
    "\n",
    "Suppose one of the surveyed adults was picked at random. Answer the following question if it's possible to do so *based on the bar chart alone*. If it's not possible, explain why not. You can assume that everyone's age was recorded in completed years, and that adults are defined as people aged 18+. \n",
    "\n",
    "Given that the selected person had not read a book in any format in the past 12 months, what is the chance that the person was in the 18-49 age group?\n",
    "\n",
    "<img src=\"q3chart.png\" width=\"200\"/>\n"
   ]
  },
  {
   "cell_type": "code",
   "execution_count": null,
   "metadata": {
    "#solution": false,
    "#staff": false,
    "#student": false
   },
   "outputs": [],
   "source": [
    "# calculations for Ex 3"
   ]
  },
  {
   "cell_type": "markdown",
   "metadata": {
    "#solution": false,
    "#staff": false,
    "#student": false
   },
   "source": [
    "## Submission Instructions ##\n",
    "\n",
    "Many assignments throughout the course will have a written portion and a code portion. Please follow the directions below to properly submit both portions.\n",
    "\n",
    "### Written Portion ###\n",
    "*  Scan all the pages into a PDF. You can use any scanner or a phone using an application. Please **DO NOT** simply take pictures using your phone. \n",
    "* Please start a new page for each question. If you have already written multiple questions on the same page, you can crop the image or fold your page over (the old-fashioned way). This helps expedite grading.\n",
    "* It is your responsibility to check that all the work on all the scanned pages is legible.\n",
    "* If you used $\\LaTeX$ to do the written portions, you do not need to do any scanning; you can just download the whole notebook as a PDF via LaTeX.\n",
    "\n",
    "### Code Portion ###\n",
    "* Save your notebook using File > Save and Checkpoint.\n",
    "* Generate a PDF file using File > Download as > PDF via LaTeX. This might take a few seconds and will automatically download a PDF version of this notebook.\n",
    "    * If you have issues, please make a follow-up post on the general HW 1 Ed thread.\n",
    "    \n",
    "### Submitting ###\n",
    "* Combine the PDFs from the written and code portions into one PDF.  [Here](https://smallpdf.com/merge-pdf) is a useful tool for doing so. \n",
    "* Submit the assignment to Homework 1 on Gradescope. \n",
    "* **Make sure to assign each page of your pdf to the correct question.**\n",
    "* **It is your responsibility to verify that all of your work shows up in your final PDF submission.**\n",
    "\n",
    "\n",
    "### **We will not grade assignments which do not have pages selected for each question.** "
   ]
  }
 ],
 "metadata": {
  "checksums": [
   "0011ff961059cb30605bb0bb5db4b42e",
   "5277bdbc94775fa2252e6beb176d3807",
   "0350987bcbc0b4e3840dce42e8623734",
   "3946284a3d6ae2231b764c4920664042",
   "c352b5ac9a2648e687adf3268699a975",
   "a3c43721cd89fe41396f4f1a176e6531",
   "d086a85b1b89dcc3cc9f7e58ee3089a6",
   "11c2428fb05559249df74d49a53f9828",
   "ec9d87a0bbf157dbe0ec88ef1d3e9cb0",
   "2fec4d984630ec2e41cf6e10c60ac843",
   "47f2ee02966530b05d1ffb14e7e7548e",
   "4b1afb9ffa30a7fe1aa20f0adb714704",
   "640061103a186fd26f59746dd4d6de57",
   "7f16ab36e12238f783a6f29e51f5c8a4",
   "1874a5076bb17596e4b5987f5c59643f",
   "640061103a186fd26f59746dd4d6de57",
   "59e0ef914c6cb1fddba54264c54bba16",
   "5616843028895257e3b015f0a809840b",
   "fe0bb2c184a2d0e76dde985c33ff8b0e"
  ],
  "history": [
   {
    "code": "# Run this cell\nimport numpy as np\nfrom scipy import special",
    "id": "a7cf1d5d0e31430988a8a5cea2b16e31",
    "idx": 1,
    "time": "2021-01-18T23:04:26.959Z",
    "type": "execution"
   },
   {
    "id": "a7cf1d5d0e31430988a8a5cea2b16e31",
    "time": "2021-01-18T23:04:27.388Z",
    "type": "completion"
   },
   {
    "code": "# Run this cell\nimport numpy as np\nfrom scipy import special",
    "id": "bbe9d25ab40b4ea88d2a7fbdb1512465",
    "idx": 1,
    "time": "2021-01-19T14:28:22.206Z",
    "type": "execution"
   },
   {
    "id": "bbe9d25ab40b4ea88d2a7fbdb1512465",
    "time": "2021-01-19T14:28:22.626Z",
    "type": "completion"
   },
   {
    "code": "![](http://prob140.org/assets/icon256.png)",
    "id": "9c1d78f487c840bbbfcb7c8926e41185",
    "idx": 2,
    "time": "2021-01-19T14:28:33.403Z",
    "type": "execution"
   },
   {
    "id": "9c1d78f487c840bbbfcb7c8926e41185",
    "time": "2021-01-19T14:28:34.125Z",
    "type": "completion"
   },
   {
    "code": "![](http://prob140.org/assets/icon256.png)",
    "id": "9c1d78f487c840bbbfcb7c8926e41185",
    "idx": 2,
    "time": "2021-01-19T14:28:37.570Z",
    "type": "execution"
   },
   {
    "id": "9c1d78f487c840bbbfcb7c8926e41185",
    "time": "2021-01-19T14:28:38.311Z",
    "type": "completion"
   },
   {
    "code": "<img src=\"markdownmonstericon.png\"\n     alt=\"Markdown Monster icon\"\n     style=\"float: left; margin-right: 10px;\" />",
    "id": "cde8b50aab494d2382bc1bd3f4575a32",
    "idx": 3,
    "time": "2021-01-19T14:29:15.618Z",
    "type": "execution"
   },
   {
    "id": "cde8b50aab494d2382bc1bd3f4575a32",
    "time": "2021-01-19T14:29:15.660Z",
    "type": "completion"
   },
   {
    "code": "![Image of Yaktocat](https://octodex.github.com/images/yaktocat.png)",
    "id": "b56c4cbd2dc64ab38948ec4b92a051ce",
    "idx": 4,
    "time": "2021-01-19T14:30:31.783Z",
    "type": "execution"
   },
   {
    "id": "b56c4cbd2dc64ab38948ec4b92a051ce",
    "time": "2021-01-19T14:30:32.514Z",
    "type": "completion"
   },
   {
    "code": "# Run this cell\nimport numpy as np\nfrom scipy import special",
    "id": "bbe9d25ab40b4ea88d2a7fbdb1512465",
    "idx": 1,
    "time": "2021-01-19T14:33:55.594Z",
    "type": "execution"
   },
   {
    "id": "bbe9d25ab40b4ea88d2a7fbdb1512465",
    "time": "2021-01-19T14:33:55.642Z",
    "type": "completion"
   },
   {
    "code": "# Run this cell\nfrom prob140 import *\nfrom datascience import *\nimport numpy as np\nfrom scipy import special\n\nimport matplotlib.pyplot as plt\n%matplotlib inline\nimport matplotlib\nmatplotlib.style.use('fivethirtyeight')",
    "id": "15957e825dd445969764e07ef92eaee5",
    "idx": 1,
    "time": "2021-01-19T15:00:47.671Z",
    "type": "execution"
   },
   {
    "id": "15957e825dd445969764e07ef92eaee5",
    "time": "2021-01-19T15:00:54.114Z",
    "type": "completion"
   },
   {
    "code": "#solution\n# Answer to 1d\n\n1 - (1 - special.comb(14, 7)/2**14)**9",
    "id": "0f27b93c019f45f68c3384938c80c792",
    "idx": 11,
    "time": "2021-01-19T15:01:06.985Z",
    "type": "execution"
   },
   {
    "id": "0f27b93c019f45f68c3384938c80c792",
    "time": "2021-01-19T15:01:07.062Z",
    "type": "completion"
   },
   {
    "code": "#solution\n# Numerical answer to 2d\n\n1 - np.e**(-1.2)",
    "id": "61d9a2c1d4754cb6b31de875917367f8",
    "idx": 17,
    "time": "2021-01-19T15:01:11.102Z",
    "type": "execution"
   },
   {
    "id": "61d9a2c1d4754cb6b31de875917367f8",
    "time": "2021-01-19T15:01:11.183Z",
    "type": "completion"
   },
   {
    "code": "#solution\nn = 4\nN = 6\nk = np.arange(1, N+1)\n\n# array consisting of P(W=k)\nprobs_W = (k/N)**n - ((k-1)/N)**n\n\ndist_W = Table().values(k).probabilities(probs_W)\nPlot(dist_W)\nplt.title('Distribution of W');",
    "id": "e25965717bb9479a8005ed0296885165",
    "idx": 30,
    "time": "2021-01-19T15:01:20.438Z",
    "type": "execution"
   },
   {
    "id": "e25965717bb9479a8005ed0296885165",
    "time": "2021-01-19T15:01:20.770Z",
    "type": "completion"
   },
   {
    "code": "#solution\n# Answer to 5d\n\n# array consisting of P(V=k)\nprobs_V = ((N-k+1)/N)**n - ((N-k)/N)**n\n\ndist_V = Table().values(k).probabilities(probs_V)\nPlot(dist_V)\nplt.title('Distribution of V');",
    "id": "67b802d37bfb4d82b6d678c543ae1277",
    "idx": 33,
    "time": "2021-01-19T15:01:22.324Z",
    "type": "execution"
   },
   {
    "id": "67b802d37bfb4d82b6d678c543ae1277",
    "time": "2021-01-19T15:01:22.634Z",
    "type": "completion"
   },
   {
    "code": "# Run this cell\nfrom prob140 import *\nfrom datascience import *\nimport numpy as np\nfrom scipy import special\n\nimport matplotlib.pyplot as plt\n%matplotlib inline\nimport matplotlib\nmatplotlib.style.use('fivethirtyeight')",
    "id": "96c159a517104a5a826125e73ed4e0b6",
    "idx": 1,
    "time": "2021-02-04T03:08:20.872Z",
    "type": "execution"
   },
   {
    "code": "# 10 choose 2\n\nspecial.comb(10, 2)",
    "id": "8ee19a78c1f549ae85d0353ce1b560f4",
    "idx": 8,
    "time": "2021-02-04T03:08:20.893Z",
    "type": "execution"
   },
   {
    "code": "#student\n# Answer to 1d\n\n...",
    "id": "fe5d04534a7e41a288ad6940d924d3bd",
    "idx": 10,
    "time": "2021-02-04T03:08:20.902Z",
    "type": "execution"
   },
   {
    "code": "#solution\n# Answer to 1d\n\n1 - (1 - special.comb(14, 7)/2**14)**9",
    "id": "fd276c0e09ed4e859c0bc7890403cc44",
    "idx": 11,
    "time": "2021-02-04T03:08:20.910Z",
    "type": "execution"
   },
   {
    "code": "#student\n# Numerical answer to 2d\n\n...",
    "id": "11c2228c147643e982357cacfb04b852",
    "idx": 16,
    "time": "2021-02-04T03:08:20.921Z",
    "type": "execution"
   },
   {
    "code": "#solution\n# Numerical answer to 2d\n\n1 - np.e**(-1.2)",
    "id": "8291726b1f8b4f9c85fb59db3003ee42",
    "idx": 17,
    "time": "2021-02-04T03:08:20.929Z",
    "type": "execution"
   },
   {
    "code": "# calculations for Ex 3",
    "id": "bc9c4838d8524d19833c333e7133661b",
    "idx": 21,
    "time": "2021-02-04T03:08:20.939Z",
    "type": "execution"
   },
   {
    "code": "#student\n\n# Answer to 5c\n\nn = 4\nN = 6\nk = np.arange(1, N+1)\n\n# array consisting of P(W=k)\nprobs_W = ...\n\ndist_W = ...\nPlot(...)\nplt.title('Distribution of W');",
    "id": "dbefea0e0c6c4aefab0850596cac5755",
    "idx": 29,
    "time": "2021-02-04T03:08:20.952Z",
    "type": "execution"
   },
   {
    "code": "#solution\nn = 4\nN = 6\nk = np.arange(1, N+1)\n\n# array consisting of P(W=k)\nprobs_W = (k/N)**n - ((k-1)/N)**n\n\ndist_W = Table().values(k).probabilities(probs_W)\nPlot(dist_W)\nplt.title('Distribution of W');",
    "id": "68ba00a75fdf4740a01e7e6ce8dc85c8",
    "idx": 30,
    "time": "2021-02-04T03:08:20.961Z",
    "type": "execution"
   },
   {
    "code": "#student\n\n# Answer to 5d\n\n...\nplt.title('Distribution of V');",
    "id": "c0abb71edadd473aa3b6bbd9b7219efc",
    "idx": 32,
    "time": "2021-02-04T03:08:20.969Z",
    "type": "execution"
   },
   {
    "code": "#solution\n# Answer to 5d\n\n# array consisting of P(V=k)\nprobs_V = ((N-k+1)/N)**n - ((N-k)/N)**n\n\ndist_V = Table().values(k).probabilities(probs_V)\nPlot(dist_V)\nplt.title('Distribution of V');",
    "id": "e0ee15ed1ac84bf081ebb79970f1c9c1",
    "idx": 33,
    "time": "2021-02-04T03:08:20.977Z",
    "type": "execution"
   },
   {
    "id": "96c159a517104a5a826125e73ed4e0b6",
    "time": "2021-02-04T03:08:22.836Z",
    "type": "completion"
   },
   {
    "id": "8ee19a78c1f549ae85d0353ce1b560f4",
    "time": "2021-02-04T03:08:22.875Z",
    "type": "completion"
   },
   {
    "id": "fe5d04534a7e41a288ad6940d924d3bd",
    "time": "2021-02-04T03:08:22.880Z",
    "type": "completion"
   },
   {
    "id": "fd276c0e09ed4e859c0bc7890403cc44",
    "time": "2021-02-04T03:08:22.954Z",
    "type": "completion"
   },
   {
    "id": "11c2228c147643e982357cacfb04b852",
    "time": "2021-02-04T03:08:22.966Z",
    "type": "completion"
   },
   {
    "id": "8291726b1f8b4f9c85fb59db3003ee42",
    "time": "2021-02-04T03:08:23.032Z",
    "type": "completion"
   },
   {
    "id": "bc9c4838d8524d19833c333e7133661b",
    "time": "2021-02-04T03:08:23.037Z",
    "type": "completion"
   },
   {
    "id": "dbefea0e0c6c4aefab0850596cac5755",
    "time": "2021-02-04T03:08:23.125Z",
    "type": "completion"
   },
   {
    "id": "68ba00a75fdf4740a01e7e6ce8dc85c8",
    "time": "2021-02-04T03:08:23.139Z",
    "type": "completion"
   },
   {
    "id": "c0abb71edadd473aa3b6bbd9b7219efc",
    "time": "2021-02-04T03:08:23.141Z",
    "type": "completion"
   },
   {
    "id": "e0ee15ed1ac84bf081ebb79970f1c9c1",
    "time": "2021-02-04T03:08:23.142Z",
    "type": "completion"
   },
   {
    "code": "# Run this cell\nfrom prob140 import *\nfrom datascience import *\nimport numpy as np\nfrom scipy import special\n\nimport matplotlib.pyplot as plt\n%matplotlib inline\nimport matplotlib\nmatplotlib.style.use('fivethirtyeight')",
    "id": "96c159a517104a5a826125e73ed4e0b6",
    "idx": 1,
    "time": "2021-02-04T03:09:22.313Z",
    "type": "execution"
   },
   {
    "id": "96c159a517104a5a826125e73ed4e0b6",
    "time": "2021-02-04T03:09:24.295Z",
    "type": "completion"
   },
   {
    "code": "# 10 choose 2\n\nspecial.comb(10, 2)",
    "id": "8ee19a78c1f549ae85d0353ce1b560f4",
    "idx": 8,
    "time": "2021-02-04T03:09:27.208Z",
    "type": "execution"
   },
   {
    "id": "8ee19a78c1f549ae85d0353ce1b560f4",
    "time": "2021-02-04T03:09:27.266Z",
    "type": "completion"
   },
   {
    "code": "#solution\n# Answer to 1d\n\n1 - (1 - special.comb(14, 7)/2**14)**9",
    "id": "fd276c0e09ed4e859c0bc7890403cc44",
    "idx": 11,
    "time": "2021-02-04T03:09:29.345Z",
    "type": "execution"
   },
   {
    "id": "fd276c0e09ed4e859c0bc7890403cc44",
    "time": "2021-02-04T03:09:29.446Z",
    "type": "completion"
   },
   {
    "code": "#solution\n# Numerical answer to 2d\n\n1 - np.e**(-1.2)",
    "id": "8291726b1f8b4f9c85fb59db3003ee42",
    "idx": 17,
    "time": "2021-02-04T03:09:32.328Z",
    "type": "execution"
   },
   {
    "id": "8291726b1f8b4f9c85fb59db3003ee42",
    "time": "2021-02-04T03:09:32.451Z",
    "type": "completion"
   },
   {
    "code": "#solution\nn = 4\nN = 6\nk = np.arange(1, N+1)\n\n# array consisting of P(W=k)\nprobs_W = (k/N)**n - ((k-1)/N)**n\n\ndist_W = Table().values(k).probabilities(probs_W)\nPlot(dist_W)\nplt.title('Distribution of W');",
    "id": "68ba00a75fdf4740a01e7e6ce8dc85c8",
    "idx": 30,
    "time": "2021-02-04T03:09:40.138Z",
    "type": "execution"
   },
   {
    "id": "68ba00a75fdf4740a01e7e6ce8dc85c8",
    "time": "2021-02-04T03:09:40.475Z",
    "type": "completion"
   },
   {
    "code": "#solution\n# Answer to 5d\n\n# array consisting of P(V=k)\nprobs_V = ((N-k+1)/N)**n - ((N-k)/N)**n\n\ndist_V = Table().values(k).probabilities(probs_V)\nPlot(dist_V)\nplt.title('Distribution of V');",
    "id": "e0ee15ed1ac84bf081ebb79970f1c9c1",
    "idx": 33,
    "time": "2021-02-04T03:09:42.001Z",
    "type": "execution"
   },
   {
    "id": "e0ee15ed1ac84bf081ebb79970f1c9c1",
    "time": "2021-02-04T03:09:42.359Z",
    "type": "completion"
   }
  ],
  "kernelspec": {
   "display_name": "Python 3",
   "language": "python",
   "name": "python3"
  },
  "language_info": {
   "codemirror_mode": {
    "name": "ipython",
    "version": 3
   },
   "file_extension": ".py",
   "mimetype": "text/x-python",
   "name": "python",
   "nbconvert_exporter": "python",
   "pygments_lexer": "ipython3",
   "version": "3.7.6"
  },
  "number_of_pagebreaks": 2
 },
 "nbformat": 4,
 "nbformat_minor": 4
}
