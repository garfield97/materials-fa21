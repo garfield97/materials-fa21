{
 "cells": [
  {
   "cell_type": "markdown",
   "metadata": {},
   "source": [
    "<table align=\"left\" style=\"border-style: hidden\" class=\"table\"> <tr><td class=\"col-md-2\"><img style=\"float\" src=\"../icon_sp21.png\" alt=\"Data 140 Logo\" style=\"width: 120px;\"/></td><td><div align=\"left\"><h3 style=\"margin-top: 0;\">Probability for Data Science</h3><h4 style=\"margin-top: 20px;\">UC Berkeley, Spring 2021</h4><p>Ani Adhikari and Jim Pitman</p>CC BY-NC 4.0</div></td></tr></table><!-- not in pdf -->"
   ]
  },
  {
   "cell_type": "markdown",
   "metadata": {
    "#solution": false,
    "#staff": false,
    "#student": false
   },
   "source": [
    "# Homework 6 #\n",
    "\n",
    "This homework set consists of the problems from the Spring 2020 midterm. It only involves written work; there is no code on the midterm.\n",
    "\n",
    "### Recommendation ###\n",
    "**Don't start this homework early. Use it as an opportunity to assess your preparation for the upcoming midterm. First complete the bulk of your review for the exam. After your review, set aside all course materials (except for the [reference sheet](http://prob140.org/assets/final_reference_fa18.pdf)), find a place where you can work on your own, and give yourself 75 minutes to do the assignment. The problems that you are not able to do in that time will give you an indication of where you need to focus the remaining portion of your review.**"
   ]
  },
  {
   "cell_type": "markdown",
   "metadata": {
    "#solution": false,
    "#staff": false,
    "#student": false
   },
   "source": [
    "## Relevant Exam Instructions ##\n",
    "\n",
    "- **Give brief explanations or show calculations in each part of each question** unless the question says this is not required.\n",
    "\n",
    "- You may use, without proof, any result proved or used in lecture, the textbook, homework, and labs, unless the question asks for a proof.\n",
    "\n",
    "- You may answer any part of any question. If the answer to one part depends on another that you couldn't do, you can still provide an answer such as \"The answer to part (a), divided by 2.\"\n",
    "\n",
    "- If your answer involves only finitely many terms, please leave it unsimplified unless the question requires a simplification. \n",
    "\n",
    "- **Please simplify all infinite sums.** It's fine to leave finite sums unsimplified, whether they are numerical or algebraic, unless the question requires a simplification."
   ]
  },
  {
   "cell_type": "markdown",
   "metadata": {
    "#solution": false,
    "#staff": false,
    "#student": false
   },
   "source": [
    "## 1. ##\n",
    "The chart below shows results of a survey conducted shortly after the 2016 US Presidential election. The respondents in the bottom bar are those who are in one or both of the top two bars. \n",
    "\n",
    "<img src=\"q1chart.png\" width=\"500\"/>\n",
    "\n",
    "Suppose one person is picked at random from the survey respondents. Define the following events.\n",
    "- $A$: the person shared a political news story online they later found was made up.\n",
    "- $B$: the person shared a political news story online they knew at the time was made up.\n",
    "\n",
    "**a)** Find $P(AB)$.\n",
    "\n",
    "**b)** Fill in the blank in the statement \n",
    "\n",
    "$$P(A \\mid B) \\;\\underline{\\hspace{0.5in}}\\; P(A)$$\n",
    "\n",
    "with one of the symbols $<$, $=$, and $>$. Justify your choice by calculating both the probabilities.\n",
    "\n",
    "**c)** Are $A$ and $B$ independent? Explain based on your calculations in the parts above.\n",
    "\n",
    "**d)** Find $P(B^cA)$. "
   ]
  },
  {
   "cell_type": "markdown",
   "metadata": {
    "#solution": false,
    "#staff": false,
    "#student": false
   },
   "source": [
    "## 2. ##\n",
    "\n",
    "A box contains $2n$ chocolates that are of two different kinds: $n$ of them are filled with butterscotch ($\\text{B}$) and the other $n$ with raspberry ($\\text{R}$).\n",
    "\n",
    "Chocolates are drawn one by one at random without replacement until only one kind of chocolate is left in the box. Let $D$ be the number of draws.\n",
    "\n",
    "For example, if $n=3$, one possible sequence is $\\text{BBRB}$ with $D=4$. If $n = 4$, the sequence could be $\\text{BRBRRBR}$ with $D = 7$.\n",
    "\n",
    "**a)** For $n>0$, what are the possible values of $D$?\n",
    "\n",
    "**b)** Find the distribution of $D$. Please don't leave ambiguities like \"...\" or \"and so on\" in your answer. Write a precise mathematical formula or provide (with justification) the name and parameters of one of the famous distributions."
   ]
  },
  {
   "cell_type": "markdown",
   "metadata": {
    "#solution": false,
    "#staff": false,
    "#student": false
   },
   "source": [
    "## 3. ##\n",
    "\n",
    "A classroom has three doors. Let $N$ be the total number of students who enter the classroom. Let $N_A$ be the number of students who enter through Door A, $N_B$ the number who enter through Door B, and $N_C$ the number who enter through Door C, so that $N_A+N_B+N_C=N$.\n",
    "\n",
    "Suppose each student enters through a door picked according to the following distribution, independently of all other students and independently of the value of $N$.\n",
    "\n",
    "| Door A | Door B | Door C |\n",
    "|:------:|:------:|:------:|\n",
    "|$0.5$   |$0.4$   |$0.1$   |\n",
    "\n",
    "**a)** Suppose $N=20$ with probability $1$. Find $P(N_A=N_B \\mid N_C = 0)$.\n",
    "\n",
    "**b)** Suppose $N$ has the Poisson $(20)$ distribution. Find $P(N_A = N_B \\le 10 \\mid N_C = 0)$.\n",
    "\n",
    "**c)** Suppose $N$ has the geometric $\\left(\\frac{1}{20}\\right)$ distribution on $\\{1, 2, 3, \\ldots \\}$. Find $E(N_C)$. "
   ]
  },
  {
   "cell_type": "markdown",
   "metadata": {
    "#solution": false,
    "#staff": false,
    "#student": false
   },
   "source": [
    "## 4. ##\n",
    "\n",
    "In an exam hall, one row has 20 seats. The GSI randomly permutes 20 students into those 20 seats.\n",
    "\n",
    "**a)** Students A and B are among the 20 students in the row. Find the decimal value of the expected number of students sitting between them.\n",
    "\n",
    "**b)** The 20 students in the row include 7 Data Science majors. Find the expected number of Data Science majors who are not seated next to another Data Science major. You don't have to find the decimal value."
   ]
  },
  {
   "cell_type": "markdown",
   "metadata": {
    "#solution": false,
    "#staff": false,
    "#student": false
   },
   "source": [
    "## 5. ##\n",
    "\n",
    "Let $X_1, X_2, \\ldots$ be independent random variables. Fix $p$ in the interval $(0, 1)$, and for $n\\ge 1$ let $X_n$ have the geometric $\\left(\\frac{p}{n}\\right)$ distribution on $\\{1, 2, 3, \\ldots \\}$. \n",
    "\n",
    "In what follows, remember that if you have infinite sums in your answers, then you must simplify them.\n",
    "\n",
    "**a)** For $k\\ge 1$, write $P(X_1 > k)$ in terms of $p$ and $k$. \n",
    "\n",
    "**b)** Find $P(X_1 > X_2)$. \n",
    "\n",
    "**c)** Find an exponential approximation to $P(X_n>n)$ for large $n$. "
   ]
  },
  {
   "cell_type": "markdown",
   "metadata": {
    "#solution": false,
    "#staff": false,
    "#student": false
   },
   "source": [
    "## 6. ##\n",
    "\n",
    "A social network consists of a finite set of members. Members $i$ and $j$ are said to be *linked* if either they are friends or they are \"friends of friends,\" which is shown in an example and then formally defined below.\n",
    "\n",
    "As an example, here is a social network that has five members A, B, C, D, and E. Friends are any two members that are connected by one line segment. For example, A and B are friends, and C and E are friends. Member A has 3 friends; B, C, and D have one friend each; and E has two friends. Members B and C aren't friends, but they are linked by the sequence of friends BAEC. \n",
    "\n",
    "Formally, Members $i$ and $j$ are linked if either they are friends or for some $n \\ge 1$, there are members $a_1, a_2, \\ldots a_n$ such that Members $i$ and $a_1$ are friends, Members $a_1$ and $a_2$ are friends, Members $a_2$ and $a_3$ are friends, and so on, and Members $a_n$ and $j$ are friends. \n",
    "\n",
    "Consider a network of $m$ members. For $1 \\le i \\le m$, let $f_i$ be the number of friends of Member $i$, and assume that $f_a \\neq f_b$ for some members $a$ and $b$. Also assume that every member is linked to every other member.\n",
    "\n",
    "Let $X_0, X_1, X_2, \\ldots$ be a Markov Chain on the set of members, with transitions based on the following proposal scheme. Given that the chain is at Member $i$:\n",
    "- Select a friend uniformly at random from all of Member $i$'s friends.\n",
    "- If the selected friend is Member $j$, then:\n",
    "    - If $f_j \\le f_i$, move to $j$.\n",
    "    - If $f_j > f_i$, toss a coin that lands heads with chance $f_i/f_j$. If it lands heads, move to $j$. If it lands tails, stay at $i$. \n",
    "    \n",
    "    \n",
    "**a)** For states $i \\neq j$, find the one-step transition probability $P(i, j) = P(X_1 = j \\mid X_0 = i)$. \n",
    "\n",
    "**b)** Briefly explain why the chain has a steady state distribution and find that distribution. Identify it as one of the famous ones and provide its name and parameters."
   ]
  },
  {
   "cell_type": "markdown",
   "metadata": {
    "#solution": false,
    "#staff": false,
    "#student": false
   },
   "source": [
    "## Submission Instructions ##\n",
    "\n",
    "Many assignments throughout the course will have a written portion and a code portion. Please follow the directions below to properly submit both portions.\n",
    "\n",
    "### Written Portion ###\n",
    "*  Scan all the pages into a PDF. You can use any scanner or a phone using an application. Please **DO NOT** simply take pictures using your phone. \n",
    "* Please start a new page for each question. If you have already written multiple questions on the same page, you can crop the image or fold your page over (the old-fashioned way). This helps expedite grading.\n",
    "* It is your responsibility to check that all the work on all the scanned pages is legible.\n",
    "* If you used $\\LaTeX$ to do the written portions, you do not need to do any scanning; you can just download the whole notebook as a PDF via LaTeX.\n",
    "\n",
    "### Code Portion ###\n",
    "* Save your notebook using File > Save and Checkpoint.\n",
    "* Generate a PDF file using File > Download as > PDF via LaTeX. This might take a few seconds and will automatically download a PDF version of this notebook.\n",
    "    * If you have issues, please make a follow-up post on the general HW 6 Ed thread.\n",
    "    \n",
    "### Submitting ###\n",
    "* Combine the PDFs from the written and code portions into one PDF.  [Here](https://smallpdf.com/merge-pdf) is a useful tool for doing so. \n",
    "* Submit the assignment to Homework 6 on Gradescope. \n",
    "* **Make sure to assign each page of your pdf to the correct question.**\n",
    "* **It is your responsibility to verify that all of your work shows up in your final PDF submission.**\n",
    "- If you have questions about scanning or uploading your work, please post a follow-up to the [Ed thread](https://edstem.org/us/courses/12163/discussion/571594) on this topic.\n",
    "\n",
    "\n",
    "### **We will not grade assignments which do not have pages selected for each question.** "
   ]
  }
 ],
 "metadata": {
  "checksums": [
   "426e58adaf321c88b8f26023c71265f5",
   "09f6ac00282a4a8ad26c00f07b20fadd",
   "f39287cdf6bdf30aaed52db7115f4d95",
   "d23c8d45597aaa90e7c8ff5bd1f48181",
   "85ecbd6b5ee25ddb1051fe00b97bb73d",
   "3289df5b1cc5e4b28b3df88e768a836d",
   "60a580af1baffb3b000d09333da6b572",
   "94f22658734a537684e60db2727f51c3",
   "8bdc11d4616d6ab241d30be5061cb393",
   "a35e4da4a0322254c7beb043017c1d1f"
  ],
  "kernelspec": {
   "display_name": "Python 3 (ipykernel)",
   "language": "python",
   "name": "python3"
  },
  "language_info": {
   "codemirror_mode": {
    "name": "ipython",
    "version": 3
   },
   "file_extension": ".py",
   "mimetype": "text/x-python",
   "name": "python",
   "nbconvert_exporter": "python",
   "pygments_lexer": "ipython3",
   "version": "3.9.7"
  },
  "number_of_pagebreaks": 0
 },
 "nbformat": 4,
 "nbformat_minor": 2
}
